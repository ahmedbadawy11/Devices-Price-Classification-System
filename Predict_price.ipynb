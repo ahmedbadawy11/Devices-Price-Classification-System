{
 "cells": [
  {
   "cell_type": "markdown",
   "metadata": {},
   "source": [
    "# Import libraries"
   ]
  },
  {
   "cell_type": "code",
   "execution_count": 1,
   "metadata": {},
   "outputs": [],
   "source": [
    "import numpy as np\n",
    "import pandas as pd\n",
    "import matplotlib.pyplot as plt\n",
    "import seaborn as sns\n",
    "import plotly.express as px\n",
    "\n",
    "from sklearn.metrics import confusion_matrix,classification_report\n",
    "from sklearn.metrics import accuracy_score,f1_score,precision_score, recall_score,make_scorer\n",
    "from sklearn.model_selection import train_test_split\n",
    "from sklearn.model_selection import GridSearchCV\n",
    "from sklearn.preprocessing import StandardScaler\n",
    "\n",
    "from  sklearn.naive_bayes import GaussianNB\n",
    "from sklearn.neighbors import KNeighborsClassifier\n",
    "from sklearn.linear_model import LogisticRegression\n",
    "from sklearn.tree import DecisionTreeClassifier\n",
    "from sklearn.svm import SVC\n",
    "from sklearn.ensemble import RandomForestClassifier\n",
    "\n",
    "from sklearn.feature_selection import SelectKBest, f_classif, VarianceThreshold, mutual_info_classif,chi2\n",
    "\n",
    "from sklearn.feature_selection import SequentialFeatureSelector\n",
    "\n",
    "import pickle\n",
    "from sklearn.pipeline import Pipeline\n",
    "\n",
    "import warnings\n",
    "# Ignore the FutureWarning related to is_categorical_dtype\n",
    "warnings.filterwarnings(\"ignore\", message=\"is_categorical_dtype is deprecated\")"
   ]
  },
  {
   "cell_type": "markdown",
   "metadata": {},
   "source": [
    "# Read Data"
   ]
  },
  {
   "cell_type": "code",
   "execution_count": 2,
   "metadata": {},
   "outputs": [],
   "source": [
    "Training_data=pd.read_csv(\"DataSet/train - train.csv\")\n",
    "test_data=pd.read_csv(\"DataSet/test - test.csv\")"
   ]
  },
  {
   "cell_type": "code",
   "execution_count": 3,
   "metadata": {},
   "outputs": [
    {
     "data": {
      "text/html": [
       "<div>\n",
       "<style scoped>\n",
       "    .dataframe tbody tr th:only-of-type {\n",
       "        vertical-align: middle;\n",
       "    }\n",
       "\n",
       "    .dataframe tbody tr th {\n",
       "        vertical-align: top;\n",
       "    }\n",
       "\n",
       "    .dataframe thead th {\n",
       "        text-align: right;\n",
       "    }\n",
       "</style>\n",
       "<table border=\"1\" class=\"dataframe\">\n",
       "  <thead>\n",
       "    <tr style=\"text-align: right;\">\n",
       "      <th></th>\n",
       "      <th>battery_power</th>\n",
       "      <th>blue</th>\n",
       "      <th>clock_speed</th>\n",
       "      <th>dual_sim</th>\n",
       "      <th>fc</th>\n",
       "      <th>four_g</th>\n",
       "      <th>int_memory</th>\n",
       "      <th>m_dep</th>\n",
       "      <th>mobile_wt</th>\n",
       "      <th>n_cores</th>\n",
       "      <th>...</th>\n",
       "      <th>px_height</th>\n",
       "      <th>px_width</th>\n",
       "      <th>ram</th>\n",
       "      <th>sc_h</th>\n",
       "      <th>sc_w</th>\n",
       "      <th>talk_time</th>\n",
       "      <th>three_g</th>\n",
       "      <th>touch_screen</th>\n",
       "      <th>wifi</th>\n",
       "      <th>price_range</th>\n",
       "    </tr>\n",
       "  </thead>\n",
       "  <tbody>\n",
       "    <tr>\n",
       "      <th>0</th>\n",
       "      <td>842</td>\n",
       "      <td>0</td>\n",
       "      <td>2.2</td>\n",
       "      <td>0</td>\n",
       "      <td>1.0</td>\n",
       "      <td>0.0</td>\n",
       "      <td>7.0</td>\n",
       "      <td>0.6</td>\n",
       "      <td>188.0</td>\n",
       "      <td>2.0</td>\n",
       "      <td>...</td>\n",
       "      <td>20.0</td>\n",
       "      <td>756.0</td>\n",
       "      <td>2549.0</td>\n",
       "      <td>9.0</td>\n",
       "      <td>7.0</td>\n",
       "      <td>19</td>\n",
       "      <td>0</td>\n",
       "      <td>0</td>\n",
       "      <td>1</td>\n",
       "      <td>1</td>\n",
       "    </tr>\n",
       "    <tr>\n",
       "      <th>1</th>\n",
       "      <td>1021</td>\n",
       "      <td>1</td>\n",
       "      <td>0.5</td>\n",
       "      <td>1</td>\n",
       "      <td>0.0</td>\n",
       "      <td>1.0</td>\n",
       "      <td>53.0</td>\n",
       "      <td>0.7</td>\n",
       "      <td>136.0</td>\n",
       "      <td>3.0</td>\n",
       "      <td>...</td>\n",
       "      <td>905.0</td>\n",
       "      <td>1988.0</td>\n",
       "      <td>2631.0</td>\n",
       "      <td>17.0</td>\n",
       "      <td>3.0</td>\n",
       "      <td>7</td>\n",
       "      <td>1</td>\n",
       "      <td>1</td>\n",
       "      <td>0</td>\n",
       "      <td>2</td>\n",
       "    </tr>\n",
       "    <tr>\n",
       "      <th>2</th>\n",
       "      <td>563</td>\n",
       "      <td>1</td>\n",
       "      <td>0.5</td>\n",
       "      <td>1</td>\n",
       "      <td>2.0</td>\n",
       "      <td>1.0</td>\n",
       "      <td>41.0</td>\n",
       "      <td>0.9</td>\n",
       "      <td>145.0</td>\n",
       "      <td>5.0</td>\n",
       "      <td>...</td>\n",
       "      <td>1263.0</td>\n",
       "      <td>1716.0</td>\n",
       "      <td>2603.0</td>\n",
       "      <td>11.0</td>\n",
       "      <td>2.0</td>\n",
       "      <td>9</td>\n",
       "      <td>1</td>\n",
       "      <td>1</td>\n",
       "      <td>0</td>\n",
       "      <td>2</td>\n",
       "    </tr>\n",
       "    <tr>\n",
       "      <th>3</th>\n",
       "      <td>615</td>\n",
       "      <td>1</td>\n",
       "      <td>2.5</td>\n",
       "      <td>0</td>\n",
       "      <td>0.0</td>\n",
       "      <td>0.0</td>\n",
       "      <td>10.0</td>\n",
       "      <td>0.8</td>\n",
       "      <td>131.0</td>\n",
       "      <td>6.0</td>\n",
       "      <td>...</td>\n",
       "      <td>1216.0</td>\n",
       "      <td>1786.0</td>\n",
       "      <td>2769.0</td>\n",
       "      <td>16.0</td>\n",
       "      <td>8.0</td>\n",
       "      <td>11</td>\n",
       "      <td>1</td>\n",
       "      <td>0</td>\n",
       "      <td>0</td>\n",
       "      <td>2</td>\n",
       "    </tr>\n",
       "    <tr>\n",
       "      <th>4</th>\n",
       "      <td>1821</td>\n",
       "      <td>1</td>\n",
       "      <td>1.2</td>\n",
       "      <td>0</td>\n",
       "      <td>13.0</td>\n",
       "      <td>1.0</td>\n",
       "      <td>44.0</td>\n",
       "      <td>0.6</td>\n",
       "      <td>141.0</td>\n",
       "      <td>2.0</td>\n",
       "      <td>...</td>\n",
       "      <td>1208.0</td>\n",
       "      <td>1212.0</td>\n",
       "      <td>1411.0</td>\n",
       "      <td>8.0</td>\n",
       "      <td>2.0</td>\n",
       "      <td>15</td>\n",
       "      <td>1</td>\n",
       "      <td>1</td>\n",
       "      <td>0</td>\n",
       "      <td>1</td>\n",
       "    </tr>\n",
       "  </tbody>\n",
       "</table>\n",
       "<p>5 rows × 21 columns</p>\n",
       "</div>"
      ],
      "text/plain": [
       "   battery_power  blue  clock_speed  dual_sim    fc  four_g  int_memory  \\\n",
       "0            842     0          2.2         0   1.0     0.0         7.0   \n",
       "1           1021     1          0.5         1   0.0     1.0        53.0   \n",
       "2            563     1          0.5         1   2.0     1.0        41.0   \n",
       "3            615     1          2.5         0   0.0     0.0        10.0   \n",
       "4           1821     1          1.2         0  13.0     1.0        44.0   \n",
       "\n",
       "   m_dep  mobile_wt  n_cores  ...  px_height  px_width     ram  sc_h  sc_w  \\\n",
       "0    0.6      188.0      2.0  ...       20.0     756.0  2549.0   9.0   7.0   \n",
       "1    0.7      136.0      3.0  ...      905.0    1988.0  2631.0  17.0   3.0   \n",
       "2    0.9      145.0      5.0  ...     1263.0    1716.0  2603.0  11.0   2.0   \n",
       "3    0.8      131.0      6.0  ...     1216.0    1786.0  2769.0  16.0   8.0   \n",
       "4    0.6      141.0      2.0  ...     1208.0    1212.0  1411.0   8.0   2.0   \n",
       "\n",
       "   talk_time  three_g  touch_screen  wifi  price_range  \n",
       "0         19        0             0     1            1  \n",
       "1          7        1             1     0            2  \n",
       "2          9        1             1     0            2  \n",
       "3         11        1             0     0            2  \n",
       "4         15        1             1     0            1  \n",
       "\n",
       "[5 rows x 21 columns]"
      ]
     },
     "execution_count": 3,
     "metadata": {},
     "output_type": "execute_result"
    }
   ],
   "source": [
    "Training_data.head()"
   ]
  },
  {
   "cell_type": "code",
   "execution_count": 4,
   "metadata": {},
   "outputs": [
    {
     "data": {
      "text/html": [
       "<div>\n",
       "<style scoped>\n",
       "    .dataframe tbody tr th:only-of-type {\n",
       "        vertical-align: middle;\n",
       "    }\n",
       "\n",
       "    .dataframe tbody tr th {\n",
       "        vertical-align: top;\n",
       "    }\n",
       "\n",
       "    .dataframe thead th {\n",
       "        text-align: right;\n",
       "    }\n",
       "</style>\n",
       "<table border=\"1\" class=\"dataframe\">\n",
       "  <thead>\n",
       "    <tr style=\"text-align: right;\">\n",
       "      <th></th>\n",
       "      <th>id</th>\n",
       "      <th>battery_power</th>\n",
       "      <th>blue</th>\n",
       "      <th>clock_speed</th>\n",
       "      <th>dual_sim</th>\n",
       "      <th>fc</th>\n",
       "      <th>four_g</th>\n",
       "      <th>int_memory</th>\n",
       "      <th>m_dep</th>\n",
       "      <th>mobile_wt</th>\n",
       "      <th>...</th>\n",
       "      <th>pc</th>\n",
       "      <th>px_height</th>\n",
       "      <th>px_width</th>\n",
       "      <th>ram</th>\n",
       "      <th>sc_h</th>\n",
       "      <th>sc_w</th>\n",
       "      <th>talk_time</th>\n",
       "      <th>three_g</th>\n",
       "      <th>touch_screen</th>\n",
       "      <th>wifi</th>\n",
       "    </tr>\n",
       "  </thead>\n",
       "  <tbody>\n",
       "    <tr>\n",
       "      <th>0</th>\n",
       "      <td>1</td>\n",
       "      <td>1043</td>\n",
       "      <td>1</td>\n",
       "      <td>1.8</td>\n",
       "      <td>1</td>\n",
       "      <td>14</td>\n",
       "      <td>0</td>\n",
       "      <td>5</td>\n",
       "      <td>0.1</td>\n",
       "      <td>193</td>\n",
       "      <td>...</td>\n",
       "      <td>16</td>\n",
       "      <td>226</td>\n",
       "      <td>1412</td>\n",
       "      <td>3476</td>\n",
       "      <td>12</td>\n",
       "      <td>7</td>\n",
       "      <td>2</td>\n",
       "      <td>0</td>\n",
       "      <td>1</td>\n",
       "      <td>0</td>\n",
       "    </tr>\n",
       "    <tr>\n",
       "      <th>1</th>\n",
       "      <td>2</td>\n",
       "      <td>841</td>\n",
       "      <td>1</td>\n",
       "      <td>0.5</td>\n",
       "      <td>1</td>\n",
       "      <td>4</td>\n",
       "      <td>1</td>\n",
       "      <td>61</td>\n",
       "      <td>0.8</td>\n",
       "      <td>191</td>\n",
       "      <td>...</td>\n",
       "      <td>12</td>\n",
       "      <td>746</td>\n",
       "      <td>857</td>\n",
       "      <td>3895</td>\n",
       "      <td>6</td>\n",
       "      <td>0</td>\n",
       "      <td>7</td>\n",
       "      <td>1</td>\n",
       "      <td>0</td>\n",
       "      <td>0</td>\n",
       "    </tr>\n",
       "    <tr>\n",
       "      <th>2</th>\n",
       "      <td>3</td>\n",
       "      <td>1807</td>\n",
       "      <td>1</td>\n",
       "      <td>2.8</td>\n",
       "      <td>0</td>\n",
       "      <td>1</td>\n",
       "      <td>0</td>\n",
       "      <td>27</td>\n",
       "      <td>0.9</td>\n",
       "      <td>186</td>\n",
       "      <td>...</td>\n",
       "      <td>4</td>\n",
       "      <td>1270</td>\n",
       "      <td>1366</td>\n",
       "      <td>2396</td>\n",
       "      <td>17</td>\n",
       "      <td>10</td>\n",
       "      <td>10</td>\n",
       "      <td>0</td>\n",
       "      <td>1</td>\n",
       "      <td>1</td>\n",
       "    </tr>\n",
       "    <tr>\n",
       "      <th>3</th>\n",
       "      <td>4</td>\n",
       "      <td>1546</td>\n",
       "      <td>0</td>\n",
       "      <td>0.5</td>\n",
       "      <td>1</td>\n",
       "      <td>18</td>\n",
       "      <td>1</td>\n",
       "      <td>25</td>\n",
       "      <td>0.5</td>\n",
       "      <td>96</td>\n",
       "      <td>...</td>\n",
       "      <td>20</td>\n",
       "      <td>295</td>\n",
       "      <td>1752</td>\n",
       "      <td>3893</td>\n",
       "      <td>10</td>\n",
       "      <td>0</td>\n",
       "      <td>7</td>\n",
       "      <td>1</td>\n",
       "      <td>1</td>\n",
       "      <td>0</td>\n",
       "    </tr>\n",
       "    <tr>\n",
       "      <th>4</th>\n",
       "      <td>5</td>\n",
       "      <td>1434</td>\n",
       "      <td>0</td>\n",
       "      <td>1.4</td>\n",
       "      <td>0</td>\n",
       "      <td>11</td>\n",
       "      <td>1</td>\n",
       "      <td>49</td>\n",
       "      <td>0.5</td>\n",
       "      <td>108</td>\n",
       "      <td>...</td>\n",
       "      <td>18</td>\n",
       "      <td>749</td>\n",
       "      <td>810</td>\n",
       "      <td>1773</td>\n",
       "      <td>15</td>\n",
       "      <td>8</td>\n",
       "      <td>7</td>\n",
       "      <td>1</td>\n",
       "      <td>0</td>\n",
       "      <td>1</td>\n",
       "    </tr>\n",
       "  </tbody>\n",
       "</table>\n",
       "<p>5 rows × 21 columns</p>\n",
       "</div>"
      ],
      "text/plain": [
       "   id  battery_power  blue  clock_speed  dual_sim  fc  four_g  int_memory  \\\n",
       "0   1           1043     1          1.8         1  14       0           5   \n",
       "1   2            841     1          0.5         1   4       1          61   \n",
       "2   3           1807     1          2.8         0   1       0          27   \n",
       "3   4           1546     0          0.5         1  18       1          25   \n",
       "4   5           1434     0          1.4         0  11       1          49   \n",
       "\n",
       "   m_dep  mobile_wt  ...  pc  px_height  px_width   ram  sc_h  sc_w  \\\n",
       "0    0.1        193  ...  16        226      1412  3476    12     7   \n",
       "1    0.8        191  ...  12        746       857  3895     6     0   \n",
       "2    0.9        186  ...   4       1270      1366  2396    17    10   \n",
       "3    0.5         96  ...  20        295      1752  3893    10     0   \n",
       "4    0.5        108  ...  18        749       810  1773    15     8   \n",
       "\n",
       "   talk_time  three_g  touch_screen  wifi  \n",
       "0          2        0             1     0  \n",
       "1          7        1             0     0  \n",
       "2         10        0             1     1  \n",
       "3          7        1             1     0  \n",
       "4          7        1             0     1  \n",
       "\n",
       "[5 rows x 21 columns]"
      ]
     },
     "execution_count": 4,
     "metadata": {},
     "output_type": "execute_result"
    }
   ],
   "source": [
    "test_data.head()"
   ]
  },
  {
   "cell_type": "code",
   "execution_count": 5,
   "metadata": {},
   "outputs": [
    {
     "name": "stdout",
     "output_type": "stream",
     "text": [
      "<class 'pandas.core.frame.DataFrame'>\n",
      "RangeIndex: 2000 entries, 0 to 1999\n",
      "Data columns (total 21 columns):\n",
      " #   Column         Non-Null Count  Dtype  \n",
      "---  ------         --------------  -----  \n",
      " 0   battery_power  2000 non-null   int64  \n",
      " 1   blue           2000 non-null   int64  \n",
      " 2   clock_speed    2000 non-null   float64\n",
      " 3   dual_sim       2000 non-null   int64  \n",
      " 4   fc             1995 non-null   float64\n",
      " 5   four_g         1995 non-null   float64\n",
      " 6   int_memory     1995 non-null   float64\n",
      " 7   m_dep          1995 non-null   float64\n",
      " 8   mobile_wt      1996 non-null   float64\n",
      " 9   n_cores        1996 non-null   float64\n",
      " 10  pc             1995 non-null   float64\n",
      " 11  px_height      1996 non-null   float64\n",
      " 12  px_width       1998 non-null   float64\n",
      " 13  ram            1998 non-null   float64\n",
      " 14  sc_h           1999 non-null   float64\n",
      " 15  sc_w           1999 non-null   float64\n",
      " 16  talk_time      2000 non-null   int64  \n",
      " 17  three_g        2000 non-null   int64  \n",
      " 18  touch_screen   2000 non-null   int64  \n",
      " 19  wifi           2000 non-null   int64  \n",
      " 20  price_range    2000 non-null   int64  \n",
      "dtypes: float64(13), int64(8)\n",
      "memory usage: 328.2 KB\n"
     ]
    }
   ],
   "source": [
    "Training_data.info()"
   ]
  },
  {
   "cell_type": "markdown",
   "metadata": {},
   "source": [
    "# Showing Some statistic"
   ]
  },
  {
   "cell_type": "code",
   "execution_count": 6,
   "metadata": {},
   "outputs": [
    {
     "data": {
      "text/html": [
       "<div>\n",
       "<style scoped>\n",
       "    .dataframe tbody tr th:only-of-type {\n",
       "        vertical-align: middle;\n",
       "    }\n",
       "\n",
       "    .dataframe tbody tr th {\n",
       "        vertical-align: top;\n",
       "    }\n",
       "\n",
       "    .dataframe thead th {\n",
       "        text-align: right;\n",
       "    }\n",
       "</style>\n",
       "<table border=\"1\" class=\"dataframe\">\n",
       "  <thead>\n",
       "    <tr style=\"text-align: right;\">\n",
       "      <th></th>\n",
       "      <th>battery_power</th>\n",
       "      <th>blue</th>\n",
       "      <th>clock_speed</th>\n",
       "      <th>dual_sim</th>\n",
       "      <th>fc</th>\n",
       "      <th>four_g</th>\n",
       "      <th>int_memory</th>\n",
       "      <th>m_dep</th>\n",
       "      <th>mobile_wt</th>\n",
       "      <th>n_cores</th>\n",
       "      <th>...</th>\n",
       "      <th>px_height</th>\n",
       "      <th>px_width</th>\n",
       "      <th>ram</th>\n",
       "      <th>sc_h</th>\n",
       "      <th>sc_w</th>\n",
       "      <th>talk_time</th>\n",
       "      <th>three_g</th>\n",
       "      <th>touch_screen</th>\n",
       "      <th>wifi</th>\n",
       "      <th>price_range</th>\n",
       "    </tr>\n",
       "  </thead>\n",
       "  <tbody>\n",
       "    <tr>\n",
       "      <th>count</th>\n",
       "      <td>2000.000000</td>\n",
       "      <td>2000.0000</td>\n",
       "      <td>2000.000000</td>\n",
       "      <td>2000.000000</td>\n",
       "      <td>1995.000000</td>\n",
       "      <td>1995.000000</td>\n",
       "      <td>1995.000000</td>\n",
       "      <td>1995.000000</td>\n",
       "      <td>1996.000000</td>\n",
       "      <td>1996.000000</td>\n",
       "      <td>...</td>\n",
       "      <td>1996.000000</td>\n",
       "      <td>1998.000000</td>\n",
       "      <td>1998.000000</td>\n",
       "      <td>1999.000000</td>\n",
       "      <td>1999.000000</td>\n",
       "      <td>2000.000000</td>\n",
       "      <td>2000.000000</td>\n",
       "      <td>2000.000000</td>\n",
       "      <td>2000.000000</td>\n",
       "      <td>2000.000000</td>\n",
       "    </tr>\n",
       "    <tr>\n",
       "      <th>mean</th>\n",
       "      <td>1238.518500</td>\n",
       "      <td>0.4950</td>\n",
       "      <td>1.522250</td>\n",
       "      <td>0.509500</td>\n",
       "      <td>4.310276</td>\n",
       "      <td>0.521303</td>\n",
       "      <td>32.048120</td>\n",
       "      <td>0.502256</td>\n",
       "      <td>140.266533</td>\n",
       "      <td>4.518036</td>\n",
       "      <td>...</td>\n",
       "      <td>644.651804</td>\n",
       "      <td>1251.287788</td>\n",
       "      <td>2124.262262</td>\n",
       "      <td>12.303652</td>\n",
       "      <td>5.766383</td>\n",
       "      <td>11.011000</td>\n",
       "      <td>0.761500</td>\n",
       "      <td>0.503000</td>\n",
       "      <td>0.507000</td>\n",
       "      <td>1.500000</td>\n",
       "    </tr>\n",
       "    <tr>\n",
       "      <th>std</th>\n",
       "      <td>439.418206</td>\n",
       "      <td>0.5001</td>\n",
       "      <td>0.816004</td>\n",
       "      <td>0.500035</td>\n",
       "      <td>4.335766</td>\n",
       "      <td>0.499671</td>\n",
       "      <td>18.146476</td>\n",
       "      <td>0.288530</td>\n",
       "      <td>35.384676</td>\n",
       "      <td>2.288946</td>\n",
       "      <td>...</td>\n",
       "      <td>443.355443</td>\n",
       "      <td>432.352930</td>\n",
       "      <td>1085.273372</td>\n",
       "      <td>4.212373</td>\n",
       "      <td>4.357400</td>\n",
       "      <td>5.463955</td>\n",
       "      <td>0.426273</td>\n",
       "      <td>0.500116</td>\n",
       "      <td>0.500076</td>\n",
       "      <td>1.118314</td>\n",
       "    </tr>\n",
       "    <tr>\n",
       "      <th>min</th>\n",
       "      <td>501.000000</td>\n",
       "      <td>0.0000</td>\n",
       "      <td>0.500000</td>\n",
       "      <td>0.000000</td>\n",
       "      <td>0.000000</td>\n",
       "      <td>0.000000</td>\n",
       "      <td>2.000000</td>\n",
       "      <td>0.100000</td>\n",
       "      <td>80.000000</td>\n",
       "      <td>1.000000</td>\n",
       "      <td>...</td>\n",
       "      <td>0.000000</td>\n",
       "      <td>500.000000</td>\n",
       "      <td>256.000000</td>\n",
       "      <td>5.000000</td>\n",
       "      <td>0.000000</td>\n",
       "      <td>2.000000</td>\n",
       "      <td>0.000000</td>\n",
       "      <td>0.000000</td>\n",
       "      <td>0.000000</td>\n",
       "      <td>0.000000</td>\n",
       "    </tr>\n",
       "    <tr>\n",
       "      <th>25%</th>\n",
       "      <td>851.750000</td>\n",
       "      <td>0.0000</td>\n",
       "      <td>0.700000</td>\n",
       "      <td>0.000000</td>\n",
       "      <td>1.000000</td>\n",
       "      <td>0.000000</td>\n",
       "      <td>16.000000</td>\n",
       "      <td>0.200000</td>\n",
       "      <td>109.000000</td>\n",
       "      <td>3.000000</td>\n",
       "      <td>...</td>\n",
       "      <td>282.000000</td>\n",
       "      <td>874.250000</td>\n",
       "      <td>1206.500000</td>\n",
       "      <td>9.000000</td>\n",
       "      <td>2.000000</td>\n",
       "      <td>6.000000</td>\n",
       "      <td>1.000000</td>\n",
       "      <td>0.000000</td>\n",
       "      <td>0.000000</td>\n",
       "      <td>0.750000</td>\n",
       "    </tr>\n",
       "    <tr>\n",
       "      <th>50%</th>\n",
       "      <td>1226.000000</td>\n",
       "      <td>0.0000</td>\n",
       "      <td>1.500000</td>\n",
       "      <td>1.000000</td>\n",
       "      <td>3.000000</td>\n",
       "      <td>1.000000</td>\n",
       "      <td>32.000000</td>\n",
       "      <td>0.500000</td>\n",
       "      <td>141.000000</td>\n",
       "      <td>4.000000</td>\n",
       "      <td>...</td>\n",
       "      <td>564.000000</td>\n",
       "      <td>1247.000000</td>\n",
       "      <td>2147.500000</td>\n",
       "      <td>12.000000</td>\n",
       "      <td>5.000000</td>\n",
       "      <td>11.000000</td>\n",
       "      <td>1.000000</td>\n",
       "      <td>1.000000</td>\n",
       "      <td>1.000000</td>\n",
       "      <td>1.500000</td>\n",
       "    </tr>\n",
       "    <tr>\n",
       "      <th>75%</th>\n",
       "      <td>1615.250000</td>\n",
       "      <td>1.0000</td>\n",
       "      <td>2.200000</td>\n",
       "      <td>1.000000</td>\n",
       "      <td>7.000000</td>\n",
       "      <td>1.000000</td>\n",
       "      <td>48.000000</td>\n",
       "      <td>0.800000</td>\n",
       "      <td>170.000000</td>\n",
       "      <td>7.000000</td>\n",
       "      <td>...</td>\n",
       "      <td>947.250000</td>\n",
       "      <td>1633.000000</td>\n",
       "      <td>3065.500000</td>\n",
       "      <td>16.000000</td>\n",
       "      <td>9.000000</td>\n",
       "      <td>16.000000</td>\n",
       "      <td>1.000000</td>\n",
       "      <td>1.000000</td>\n",
       "      <td>1.000000</td>\n",
       "      <td>2.250000</td>\n",
       "    </tr>\n",
       "    <tr>\n",
       "      <th>max</th>\n",
       "      <td>1998.000000</td>\n",
       "      <td>1.0000</td>\n",
       "      <td>3.000000</td>\n",
       "      <td>1.000000</td>\n",
       "      <td>19.000000</td>\n",
       "      <td>1.000000</td>\n",
       "      <td>64.000000</td>\n",
       "      <td>1.000000</td>\n",
       "      <td>200.000000</td>\n",
       "      <td>8.000000</td>\n",
       "      <td>...</td>\n",
       "      <td>1960.000000</td>\n",
       "      <td>1998.000000</td>\n",
       "      <td>3998.000000</td>\n",
       "      <td>19.000000</td>\n",
       "      <td>18.000000</td>\n",
       "      <td>20.000000</td>\n",
       "      <td>1.000000</td>\n",
       "      <td>1.000000</td>\n",
       "      <td>1.000000</td>\n",
       "      <td>3.000000</td>\n",
       "    </tr>\n",
       "  </tbody>\n",
       "</table>\n",
       "<p>8 rows × 21 columns</p>\n",
       "</div>"
      ],
      "text/plain": [
       "       battery_power       blue  clock_speed     dual_sim           fc  \\\n",
       "count    2000.000000  2000.0000  2000.000000  2000.000000  1995.000000   \n",
       "mean     1238.518500     0.4950     1.522250     0.509500     4.310276   \n",
       "std       439.418206     0.5001     0.816004     0.500035     4.335766   \n",
       "min       501.000000     0.0000     0.500000     0.000000     0.000000   \n",
       "25%       851.750000     0.0000     0.700000     0.000000     1.000000   \n",
       "50%      1226.000000     0.0000     1.500000     1.000000     3.000000   \n",
       "75%      1615.250000     1.0000     2.200000     1.000000     7.000000   \n",
       "max      1998.000000     1.0000     3.000000     1.000000    19.000000   \n",
       "\n",
       "            four_g   int_memory        m_dep    mobile_wt      n_cores  ...  \\\n",
       "count  1995.000000  1995.000000  1995.000000  1996.000000  1996.000000  ...   \n",
       "mean      0.521303    32.048120     0.502256   140.266533     4.518036  ...   \n",
       "std       0.499671    18.146476     0.288530    35.384676     2.288946  ...   \n",
       "min       0.000000     2.000000     0.100000    80.000000     1.000000  ...   \n",
       "25%       0.000000    16.000000     0.200000   109.000000     3.000000  ...   \n",
       "50%       1.000000    32.000000     0.500000   141.000000     4.000000  ...   \n",
       "75%       1.000000    48.000000     0.800000   170.000000     7.000000  ...   \n",
       "max       1.000000    64.000000     1.000000   200.000000     8.000000  ...   \n",
       "\n",
       "         px_height     px_width          ram         sc_h         sc_w  \\\n",
       "count  1996.000000  1998.000000  1998.000000  1999.000000  1999.000000   \n",
       "mean    644.651804  1251.287788  2124.262262    12.303652     5.766383   \n",
       "std     443.355443   432.352930  1085.273372     4.212373     4.357400   \n",
       "min       0.000000   500.000000   256.000000     5.000000     0.000000   \n",
       "25%     282.000000   874.250000  1206.500000     9.000000     2.000000   \n",
       "50%     564.000000  1247.000000  2147.500000    12.000000     5.000000   \n",
       "75%     947.250000  1633.000000  3065.500000    16.000000     9.000000   \n",
       "max    1960.000000  1998.000000  3998.000000    19.000000    18.000000   \n",
       "\n",
       "         talk_time      three_g  touch_screen         wifi  price_range  \n",
       "count  2000.000000  2000.000000   2000.000000  2000.000000  2000.000000  \n",
       "mean     11.011000     0.761500      0.503000     0.507000     1.500000  \n",
       "std       5.463955     0.426273      0.500116     0.500076     1.118314  \n",
       "min       2.000000     0.000000      0.000000     0.000000     0.000000  \n",
       "25%       6.000000     1.000000      0.000000     0.000000     0.750000  \n",
       "50%      11.000000     1.000000      1.000000     1.000000     1.500000  \n",
       "75%      16.000000     1.000000      1.000000     1.000000     2.250000  \n",
       "max      20.000000     1.000000      1.000000     1.000000     3.000000  \n",
       "\n",
       "[8 rows x 21 columns]"
      ]
     },
     "execution_count": 6,
     "metadata": {},
     "output_type": "execute_result"
    }
   ],
   "source": [
    "Training_data.describe()"
   ]
  },
  {
   "cell_type": "code",
   "execution_count": 7,
   "metadata": {},
   "outputs": [
    {
     "data": {
      "text/plain": [
       "(2000, 21)"
      ]
     },
     "execution_count": 7,
     "metadata": {},
     "output_type": "execute_result"
    }
   ],
   "source": [
    "Training_data.shape"
   ]
  },
  {
   "cell_type": "markdown",
   "metadata": {},
   "source": [
    "# Data Preparing"
   ]
  },
  {
   "cell_type": "markdown",
   "metadata": {},
   "source": [
    "## Check for duplicate rows"
   ]
  },
  {
   "cell_type": "code",
   "execution_count": 8,
   "metadata": {},
   "outputs": [
    {
     "data": {
      "text/plain": [
       "0"
      ]
     },
     "execution_count": 8,
     "metadata": {},
     "output_type": "execute_result"
    }
   ],
   "source": [
    "Training_data.duplicated().sum()"
   ]
  },
  {
   "cell_type": "markdown",
   "metadata": {},
   "source": [
    "## Check Missing Values"
   ]
  },
  {
   "cell_type": "code",
   "execution_count": 9,
   "metadata": {},
   "outputs": [
    {
     "data": {
      "text/plain": [
       "battery_power    0\n",
       "blue             0\n",
       "clock_speed      0\n",
       "dual_sim         0\n",
       "fc               5\n",
       "four_g           5\n",
       "int_memory       5\n",
       "m_dep            5\n",
       "mobile_wt        4\n",
       "n_cores          4\n",
       "pc               5\n",
       "px_height        4\n",
       "px_width         2\n",
       "ram              2\n",
       "sc_h             1\n",
       "sc_w             1\n",
       "talk_time        0\n",
       "three_g          0\n",
       "touch_screen     0\n",
       "wifi             0\n",
       "price_range      0\n",
       "dtype: int64"
      ]
     },
     "execution_count": 9,
     "metadata": {},
     "output_type": "execute_result"
    }
   ],
   "source": [
    "Training_data.isnull().sum()"
   ]
  },
  {
   "cell_type": "markdown",
   "metadata": {},
   "source": [
    "## Drop Rows that contain Missing values"
   ]
  },
  {
   "cell_type": "code",
   "execution_count": 10,
   "metadata": {},
   "outputs": [],
   "source": [
    "Training_data.dropna(inplace=True)"
   ]
  },
  {
   "cell_type": "code",
   "execution_count": 11,
   "metadata": {},
   "outputs": [
    {
     "data": {
      "text/plain": [
       "(1991, 21)"
      ]
     },
     "execution_count": 11,
     "metadata": {},
     "output_type": "execute_result"
    }
   ],
   "source": [
    "Training_data.shape"
   ]
  },
  {
   "cell_type": "code",
   "execution_count": 12,
   "metadata": {},
   "outputs": [],
   "source": [
    "Training_data['four_g'] = Training_data['four_g'].astype('int64')"
   ]
  },
  {
   "cell_type": "markdown",
   "metadata": {},
   "source": [
    "## Show the unique values for the category columns"
   ]
  },
  {
   "cell_type": "code",
   "execution_count": 13,
   "metadata": {},
   "outputs": [
    {
     "data": {
      "text/plain": [
       "price_range\n",
       "2    499\n",
       "0    499\n",
       "3    497\n",
       "1    496\n",
       "Name: count, dtype: int64"
      ]
     },
     "execution_count": 13,
     "metadata": {},
     "output_type": "execute_result"
    }
   ],
   "source": [
    "Training_data[\"price_range\"].value_counts()"
   ]
  },
  {
   "cell_type": "code",
   "execution_count": 14,
   "metadata": {},
   "outputs": [
    {
     "data": {
      "text/plain": [
       "n_cores\n",
       "4.0    272\n",
       "7.0    258\n",
       "8.0    256\n",
       "2.0    247\n",
       "3.0    246\n",
       "5.0    244\n",
       "1.0    242\n",
       "6.0    226\n",
       "Name: count, dtype: int64"
      ]
     },
     "execution_count": 14,
     "metadata": {},
     "output_type": "execute_result"
    }
   ],
   "source": [
    "Training_data['n_cores'].value_counts()"
   ]
  },
  {
   "cell_type": "code",
   "execution_count": 15,
   "metadata": {},
   "outputs": [
    {
     "data": {
      "text/plain": [
       "three_g\n",
       "1    1515\n",
       "0     476\n",
       "Name: count, dtype: int64"
      ]
     },
     "execution_count": 15,
     "metadata": {},
     "output_type": "execute_result"
    }
   ],
   "source": [
    "Training_data['three_g'].value_counts()"
   ]
  },
  {
   "cell_type": "markdown",
   "metadata": {},
   "source": [
    "## Checking the imbalance in the data"
   ]
  },
  {
   "cell_type": "code",
   "execution_count": 16,
   "metadata": {},
   "outputs": [
    {
     "data": {
      "application/vnd.plotly.v1+json": {
       "config": {
        "plotlyServerURL": "https://plot.ly"
       },
       "data": [
        {
         "domain": {
          "x": [
           0,
           1
          ],
          "y": [
           0,
           1
          ]
         },
         "hole": 0.2,
         "hovertemplate": "price_range=%{label}<br>count=%{value}<extra></extra>",
         "labels": [
          0,
          1,
          2,
          3
         ],
         "legendgroup": "",
         "name": "",
         "showlegend": true,
         "type": "pie",
         "values": [
          499,
          496,
          499,
          497
         ]
        }
       ],
       "layout": {
        "legend": {
         "tracegroupgap": 0
        },
        "piecolorway": [
         "rgb(103,0,31)",
         "rgb(178,24,43)",
         "rgb(214,96,77)",
         "rgb(244,165,130)",
         "rgb(253,219,199)",
         "rgb(247,247,247)",
         "rgb(209,229,240)",
         "rgb(146,197,222)",
         "rgb(67,147,195)",
         "rgb(33,102,172)",
         "rgb(5,48,97)"
        ],
        "template": {
         "data": {
          "bar": [
           {
            "error_x": {
             "color": "#2a3f5f"
            },
            "error_y": {
             "color": "#2a3f5f"
            },
            "marker": {
             "line": {
              "color": "#E5ECF6",
              "width": 0.5
             },
             "pattern": {
              "fillmode": "overlay",
              "size": 10,
              "solidity": 0.2
             }
            },
            "type": "bar"
           }
          ],
          "barpolar": [
           {
            "marker": {
             "line": {
              "color": "#E5ECF6",
              "width": 0.5
             },
             "pattern": {
              "fillmode": "overlay",
              "size": 10,
              "solidity": 0.2
             }
            },
            "type": "barpolar"
           }
          ],
          "carpet": [
           {
            "aaxis": {
             "endlinecolor": "#2a3f5f",
             "gridcolor": "white",
             "linecolor": "white",
             "minorgridcolor": "white",
             "startlinecolor": "#2a3f5f"
            },
            "baxis": {
             "endlinecolor": "#2a3f5f",
             "gridcolor": "white",
             "linecolor": "white",
             "minorgridcolor": "white",
             "startlinecolor": "#2a3f5f"
            },
            "type": "carpet"
           }
          ],
          "choropleth": [
           {
            "colorbar": {
             "outlinewidth": 0,
             "ticks": ""
            },
            "type": "choropleth"
           }
          ],
          "contour": [
           {
            "colorbar": {
             "outlinewidth": 0,
             "ticks": ""
            },
            "colorscale": [
             [
              0,
              "#0d0887"
             ],
             [
              0.1111111111111111,
              "#46039f"
             ],
             [
              0.2222222222222222,
              "#7201a8"
             ],
             [
              0.3333333333333333,
              "#9c179e"
             ],
             [
              0.4444444444444444,
              "#bd3786"
             ],
             [
              0.5555555555555556,
              "#d8576b"
             ],
             [
              0.6666666666666666,
              "#ed7953"
             ],
             [
              0.7777777777777778,
              "#fb9f3a"
             ],
             [
              0.8888888888888888,
              "#fdca26"
             ],
             [
              1,
              "#f0f921"
             ]
            ],
            "type": "contour"
           }
          ],
          "contourcarpet": [
           {
            "colorbar": {
             "outlinewidth": 0,
             "ticks": ""
            },
            "type": "contourcarpet"
           }
          ],
          "heatmap": [
           {
            "colorbar": {
             "outlinewidth": 0,
             "ticks": ""
            },
            "colorscale": [
             [
              0,
              "#0d0887"
             ],
             [
              0.1111111111111111,
              "#46039f"
             ],
             [
              0.2222222222222222,
              "#7201a8"
             ],
             [
              0.3333333333333333,
              "#9c179e"
             ],
             [
              0.4444444444444444,
              "#bd3786"
             ],
             [
              0.5555555555555556,
              "#d8576b"
             ],
             [
              0.6666666666666666,
              "#ed7953"
             ],
             [
              0.7777777777777778,
              "#fb9f3a"
             ],
             [
              0.8888888888888888,
              "#fdca26"
             ],
             [
              1,
              "#f0f921"
             ]
            ],
            "type": "heatmap"
           }
          ],
          "heatmapgl": [
           {
            "colorbar": {
             "outlinewidth": 0,
             "ticks": ""
            },
            "colorscale": [
             [
              0,
              "#0d0887"
             ],
             [
              0.1111111111111111,
              "#46039f"
             ],
             [
              0.2222222222222222,
              "#7201a8"
             ],
             [
              0.3333333333333333,
              "#9c179e"
             ],
             [
              0.4444444444444444,
              "#bd3786"
             ],
             [
              0.5555555555555556,
              "#d8576b"
             ],
             [
              0.6666666666666666,
              "#ed7953"
             ],
             [
              0.7777777777777778,
              "#fb9f3a"
             ],
             [
              0.8888888888888888,
              "#fdca26"
             ],
             [
              1,
              "#f0f921"
             ]
            ],
            "type": "heatmapgl"
           }
          ],
          "histogram": [
           {
            "marker": {
             "pattern": {
              "fillmode": "overlay",
              "size": 10,
              "solidity": 0.2
             }
            },
            "type": "histogram"
           }
          ],
          "histogram2d": [
           {
            "colorbar": {
             "outlinewidth": 0,
             "ticks": ""
            },
            "colorscale": [
             [
              0,
              "#0d0887"
             ],
             [
              0.1111111111111111,
              "#46039f"
             ],
             [
              0.2222222222222222,
              "#7201a8"
             ],
             [
              0.3333333333333333,
              "#9c179e"
             ],
             [
              0.4444444444444444,
              "#bd3786"
             ],
             [
              0.5555555555555556,
              "#d8576b"
             ],
             [
              0.6666666666666666,
              "#ed7953"
             ],
             [
              0.7777777777777778,
              "#fb9f3a"
             ],
             [
              0.8888888888888888,
              "#fdca26"
             ],
             [
              1,
              "#f0f921"
             ]
            ],
            "type": "histogram2d"
           }
          ],
          "histogram2dcontour": [
           {
            "colorbar": {
             "outlinewidth": 0,
             "ticks": ""
            },
            "colorscale": [
             [
              0,
              "#0d0887"
             ],
             [
              0.1111111111111111,
              "#46039f"
             ],
             [
              0.2222222222222222,
              "#7201a8"
             ],
             [
              0.3333333333333333,
              "#9c179e"
             ],
             [
              0.4444444444444444,
              "#bd3786"
             ],
             [
              0.5555555555555556,
              "#d8576b"
             ],
             [
              0.6666666666666666,
              "#ed7953"
             ],
             [
              0.7777777777777778,
              "#fb9f3a"
             ],
             [
              0.8888888888888888,
              "#fdca26"
             ],
             [
              1,
              "#f0f921"
             ]
            ],
            "type": "histogram2dcontour"
           }
          ],
          "mesh3d": [
           {
            "colorbar": {
             "outlinewidth": 0,
             "ticks": ""
            },
            "type": "mesh3d"
           }
          ],
          "parcoords": [
           {
            "line": {
             "colorbar": {
              "outlinewidth": 0,
              "ticks": ""
             }
            },
            "type": "parcoords"
           }
          ],
          "pie": [
           {
            "automargin": true,
            "type": "pie"
           }
          ],
          "scatter": [
           {
            "fillpattern": {
             "fillmode": "overlay",
             "size": 10,
             "solidity": 0.2
            },
            "type": "scatter"
           }
          ],
          "scatter3d": [
           {
            "line": {
             "colorbar": {
              "outlinewidth": 0,
              "ticks": ""
             }
            },
            "marker": {
             "colorbar": {
              "outlinewidth": 0,
              "ticks": ""
             }
            },
            "type": "scatter3d"
           }
          ],
          "scattercarpet": [
           {
            "marker": {
             "colorbar": {
              "outlinewidth": 0,
              "ticks": ""
             }
            },
            "type": "scattercarpet"
           }
          ],
          "scattergeo": [
           {
            "marker": {
             "colorbar": {
              "outlinewidth": 0,
              "ticks": ""
             }
            },
            "type": "scattergeo"
           }
          ],
          "scattergl": [
           {
            "marker": {
             "colorbar": {
              "outlinewidth": 0,
              "ticks": ""
             }
            },
            "type": "scattergl"
           }
          ],
          "scattermapbox": [
           {
            "marker": {
             "colorbar": {
              "outlinewidth": 0,
              "ticks": ""
             }
            },
            "type": "scattermapbox"
           }
          ],
          "scatterpolar": [
           {
            "marker": {
             "colorbar": {
              "outlinewidth": 0,
              "ticks": ""
             }
            },
            "type": "scatterpolar"
           }
          ],
          "scatterpolargl": [
           {
            "marker": {
             "colorbar": {
              "outlinewidth": 0,
              "ticks": ""
             }
            },
            "type": "scatterpolargl"
           }
          ],
          "scatterternary": [
           {
            "marker": {
             "colorbar": {
              "outlinewidth": 0,
              "ticks": ""
             }
            },
            "type": "scatterternary"
           }
          ],
          "surface": [
           {
            "colorbar": {
             "outlinewidth": 0,
             "ticks": ""
            },
            "colorscale": [
             [
              0,
              "#0d0887"
             ],
             [
              0.1111111111111111,
              "#46039f"
             ],
             [
              0.2222222222222222,
              "#7201a8"
             ],
             [
              0.3333333333333333,
              "#9c179e"
             ],
             [
              0.4444444444444444,
              "#bd3786"
             ],
             [
              0.5555555555555556,
              "#d8576b"
             ],
             [
              0.6666666666666666,
              "#ed7953"
             ],
             [
              0.7777777777777778,
              "#fb9f3a"
             ],
             [
              0.8888888888888888,
              "#fdca26"
             ],
             [
              1,
              "#f0f921"
             ]
            ],
            "type": "surface"
           }
          ],
          "table": [
           {
            "cells": {
             "fill": {
              "color": "#EBF0F8"
             },
             "line": {
              "color": "white"
             }
            },
            "header": {
             "fill": {
              "color": "#C8D4E3"
             },
             "line": {
              "color": "white"
             }
            },
            "type": "table"
           }
          ]
         },
         "layout": {
          "annotationdefaults": {
           "arrowcolor": "#2a3f5f",
           "arrowhead": 0,
           "arrowwidth": 1
          },
          "autotypenumbers": "strict",
          "coloraxis": {
           "colorbar": {
            "outlinewidth": 0,
            "ticks": ""
           }
          },
          "colorscale": {
           "diverging": [
            [
             0,
             "#8e0152"
            ],
            [
             0.1,
             "#c51b7d"
            ],
            [
             0.2,
             "#de77ae"
            ],
            [
             0.3,
             "#f1b6da"
            ],
            [
             0.4,
             "#fde0ef"
            ],
            [
             0.5,
             "#f7f7f7"
            ],
            [
             0.6,
             "#e6f5d0"
            ],
            [
             0.7,
             "#b8e186"
            ],
            [
             0.8,
             "#7fbc41"
            ],
            [
             0.9,
             "#4d9221"
            ],
            [
             1,
             "#276419"
            ]
           ],
           "sequential": [
            [
             0,
             "#0d0887"
            ],
            [
             0.1111111111111111,
             "#46039f"
            ],
            [
             0.2222222222222222,
             "#7201a8"
            ],
            [
             0.3333333333333333,
             "#9c179e"
            ],
            [
             0.4444444444444444,
             "#bd3786"
            ],
            [
             0.5555555555555556,
             "#d8576b"
            ],
            [
             0.6666666666666666,
             "#ed7953"
            ],
            [
             0.7777777777777778,
             "#fb9f3a"
            ],
            [
             0.8888888888888888,
             "#fdca26"
            ],
            [
             1,
             "#f0f921"
            ]
           ],
           "sequentialminus": [
            [
             0,
             "#0d0887"
            ],
            [
             0.1111111111111111,
             "#46039f"
            ],
            [
             0.2222222222222222,
             "#7201a8"
            ],
            [
             0.3333333333333333,
             "#9c179e"
            ],
            [
             0.4444444444444444,
             "#bd3786"
            ],
            [
             0.5555555555555556,
             "#d8576b"
            ],
            [
             0.6666666666666666,
             "#ed7953"
            ],
            [
             0.7777777777777778,
             "#fb9f3a"
            ],
            [
             0.8888888888888888,
             "#fdca26"
            ],
            [
             1,
             "#f0f921"
            ]
           ]
          },
          "colorway": [
           "#636efa",
           "#EF553B",
           "#00cc96",
           "#ab63fa",
           "#FFA15A",
           "#19d3f3",
           "#FF6692",
           "#B6E880",
           "#FF97FF",
           "#FECB52"
          ],
          "font": {
           "color": "#2a3f5f"
          },
          "geo": {
           "bgcolor": "white",
           "lakecolor": "white",
           "landcolor": "#E5ECF6",
           "showlakes": true,
           "showland": true,
           "subunitcolor": "white"
          },
          "hoverlabel": {
           "align": "left"
          },
          "hovermode": "closest",
          "mapbox": {
           "style": "light"
          },
          "paper_bgcolor": "white",
          "plot_bgcolor": "#E5ECF6",
          "polar": {
           "angularaxis": {
            "gridcolor": "white",
            "linecolor": "white",
            "ticks": ""
           },
           "bgcolor": "#E5ECF6",
           "radialaxis": {
            "gridcolor": "white",
            "linecolor": "white",
            "ticks": ""
           }
          },
          "scene": {
           "xaxis": {
            "backgroundcolor": "#E5ECF6",
            "gridcolor": "white",
            "gridwidth": 2,
            "linecolor": "white",
            "showbackground": true,
            "ticks": "",
            "zerolinecolor": "white"
           },
           "yaxis": {
            "backgroundcolor": "#E5ECF6",
            "gridcolor": "white",
            "gridwidth": 2,
            "linecolor": "white",
            "showbackground": true,
            "ticks": "",
            "zerolinecolor": "white"
           },
           "zaxis": {
            "backgroundcolor": "#E5ECF6",
            "gridcolor": "white",
            "gridwidth": 2,
            "linecolor": "white",
            "showbackground": true,
            "ticks": "",
            "zerolinecolor": "white"
           }
          },
          "shapedefaults": {
           "line": {
            "color": "#2a3f5f"
           }
          },
          "ternary": {
           "aaxis": {
            "gridcolor": "white",
            "linecolor": "white",
            "ticks": ""
           },
           "baxis": {
            "gridcolor": "white",
            "linecolor": "white",
            "ticks": ""
           },
           "bgcolor": "#E5ECF6",
           "caxis": {
            "gridcolor": "white",
            "linecolor": "white",
            "ticks": ""
           }
          },
          "title": {
           "x": 0.05
          },
          "xaxis": {
           "automargin": true,
           "gridcolor": "white",
           "linecolor": "white",
           "ticks": "",
           "title": {
            "standoff": 15
           },
           "zerolinecolor": "white",
           "zerolinewidth": 2
          },
          "yaxis": {
           "automargin": true,
           "gridcolor": "white",
           "linecolor": "white",
           "ticks": "",
           "title": {
            "standoff": 15
           },
           "zerolinecolor": "white",
           "zerolinewidth": 2
          }
         }
        },
        "title": {
         "text": "Unique values of Cover Type - "
        }
       }
      }
     },
     "metadata": {},
     "output_type": "display_data"
    }
   ],
   "source": [
    "price_range_count=Training_data.groupby('price_range').size().reset_index()\n",
    "\n",
    "price_range_count=price_range_count.rename(columns = {0:'count'})\n",
    "\n",
    "price_range_count_fig=px.pie(price_range_count,names='price_range',values='count',title=f'Unique values of Cover Type - '\n",
    "                ,color_discrete_sequence=px.colors.sequential.RdBu ,hole=0.2)\n",
    "\n",
    "price_range_count_fig.show()"
   ]
  },
  {
   "cell_type": "markdown",
   "metadata": {},
   "source": [
    "## Plot histograms for each feature to visualize their distributions"
   ]
  },
  {
   "cell_type": "code",
   "execution_count": 17,
   "metadata": {},
   "outputs": [
    {
     "data": {
      "image/png": "[encoded data removed]",
      "text/plain": [
       "<Figure size 1500x1000 with 25 Axes>"
      ]
     },
     "metadata": {},
     "output_type": "display_data"
    }
   ],
   "source": [
    "Training_data.hist(bins=30, color='skyblue', alpha=0.7,figsize=(15, 10))\n",
    "plt.tight_layout()\n",
    "\n",
    "plt.show()"
   ]
  },
  {
   "cell_type": "markdown",
   "metadata": {},
   "source": [
    "### Conclusion:\n",
    "* We have 8 categorical variables: n_cores , price_range, blue, dual_sim, four_g, three_g, touch_screen, wifi\n",
    "* We have 13 numeric variables: battery_power, clock_speed, fc, int_memory, m_dep, mobile_wt, pc, px_height, px_width, ram, talk_time, sc_h, sc_w\n",
    "\n",
    "* we noticed that px_height (Pixel Resolution Height) and sc_w (Screen Width of mobile in cm), many values close to zero are observed, which seem like noise "
   ]
  },
  {
   "cell_type": "markdown",
   "metadata": {},
   "source": [
    "## look at px_height  and sc_w feature distributions again"
   ]
  },
  {
   "cell_type": "code",
   "execution_count": 18,
   "metadata": {},
   "outputs": [
    {
     "data": {
      "image/png": "[encoded data removed]",
      "text/plain": [
       "<Figure size 1200x600 with 2 Axes>"
      ]
     },
     "metadata": {},
     "output_type": "display_data"
    }
   ],
   "source": [
    "fig, axs = plt.subplots(1, 2, figsize=(12, 6))\n",
    "\n",
    "# Plot histogram for column1 in the first subplot\n",
    "axs[0].hist(Training_data['px_height'], bins=30, alpha=0.5, color='blue')\n",
    "axs[0].set_title('distributions of px_height ')\n",
    "axs[0].set_xlabel('Values')\n",
    "axs[0].set_ylabel('Frequency')\n",
    "\n",
    "# Plot histogram for column2 in the second subplot\n",
    "axs[1].hist(Training_data['sc_w'], bins=30, alpha=0.5, color='green')\n",
    "axs[1].set_title('distributions of sc_w')\n",
    "axs[1].set_xlabel('Values')\n",
    "axs[1].set_ylabel('Frequency')\n",
    "\n",
    "# Adjust layout and display the plot\n",
    "plt.tight_layout()\n",
    "plt.show()"
   ]
  },
  {
   "cell_type": "markdown",
   "metadata": {},
   "source": [
    "### Conclusion\n",
    "* The data for \"Pixel Resolution Height\" (px_height) and \"Screen Width\" (sc_w) in mobile devices often includes numerous instances where the values are zero or very close to zero. These instances appear as noise in the data.\n",
    "\n",
    "* I intend to implement classification models that are less sensitive to noise and outliers."
   ]
  },
  {
   "cell_type": "markdown",
   "metadata": {},
   "source": [
    "## Detect Noise values in px_height and sc_w"
   ]
  },
  {
   "cell_type": "code",
   "execution_count": 19,
   "metadata": {},
   "outputs": [
    {
     "name": "stdout",
     "output_type": "stream",
     "text": [
      "The number of noise values for sc_w:  386\n",
      "The number of noise values for px_height:  9\n"
     ]
    }
   ],
   "source": [
    "sc_w_NoiseValues = Training_data[Training_data['sc_w'] < 2].index\n",
    "\n",
    "px_height_NoiseValues= Training_data[Training_data['px_height'] < 5].index\n",
    "\n",
    "print('The number of noise values for sc_w: ', len(sc_w_NoiseValues))\n",
    "print('The number of noise values for px_height: ', len(px_height_NoiseValues))"
   ]
  },
  {
   "cell_type": "markdown",
   "metadata": {},
   "source": [
    "## Plot Box Plot For each numeric feature"
   ]
  },
  {
   "cell_type": "code",
   "execution_count": 20,
   "metadata": {},
   "outputs": [
    {
     "data": {
      "image/png": "[encoded data removed]",
      "text/plain": [
       "<Figure size 2500x1500 with 1 Axes>"
      ]
     },
     "metadata": {},
     "output_type": "display_data"
    }
   ],
   "source": [
    "exclude_cols = ['blue', 'dual_sim', 'four_g', 'three_g', 'touch_screen', 'wifi','n_cores']\n",
    "\n",
    "selected_columns = Training_data.drop(exclude_cols, axis=1)\n",
    "\n",
    "\n",
    "plt.figure(figsize=(25, 15))\n",
    "sns.boxplot(data=selected_columns, orient=\"h\", palette=\"Set2\")\n",
    "plt.title(\"Box Plots \")\n",
    "plt.show()"
   ]
  },
  {
   "cell_type": "markdown",
   "metadata": {},
   "source": [
    "# Model Training"
   ]
  },
  {
   "cell_type": "markdown",
   "metadata": {},
   "source": [
    "## Define the Features and Target variable"
   ]
  },
  {
   "cell_type": "code",
   "execution_count": 21,
   "metadata": {},
   "outputs": [],
   "source": [
    "X = Training_data.drop(columns=['price_range'])  \n",
    "y = Training_data['price_range']  "
   ]
  },
  {
   "cell_type": "markdown",
   "metadata": {},
   "source": [
    "## Split the data"
   ]
  },
  {
   "cell_type": "code",
   "execution_count": 22,
   "metadata": {},
   "outputs": [],
   "source": [
    "\n",
    "X_train,X_val,Y_train,Y_val=train_test_split(X,y,test_size=0.1, random_state=42,stratify=y)"
   ]
  },
  {
   "cell_type": "code",
   "execution_count": 23,
   "metadata": {},
   "outputs": [
    {
     "data": {
      "text/html": [
       "<div>\n",
       "<style scoped>\n",
       "    .dataframe tbody tr th:only-of-type {\n",
       "        vertical-align: middle;\n",
       "    }\n",
       "\n",
       "    .dataframe tbody tr th {\n",
       "        vertical-align: top;\n",
       "    }\n",
       "\n",
       "    .dataframe thead th {\n",
       "        text-align: right;\n",
       "    }\n",
       "</style>\n",
       "<table border=\"1\" class=\"dataframe\">\n",
       "  <thead>\n",
       "    <tr style=\"text-align: right;\">\n",
       "      <th></th>\n",
       "      <th>battery_power</th>\n",
       "      <th>blue</th>\n",
       "      <th>clock_speed</th>\n",
       "      <th>dual_sim</th>\n",
       "      <th>fc</th>\n",
       "      <th>four_g</th>\n",
       "      <th>int_memory</th>\n",
       "      <th>m_dep</th>\n",
       "      <th>mobile_wt</th>\n",
       "      <th>n_cores</th>\n",
       "      <th>pc</th>\n",
       "      <th>px_height</th>\n",
       "      <th>px_width</th>\n",
       "      <th>ram</th>\n",
       "      <th>sc_h</th>\n",
       "      <th>sc_w</th>\n",
       "      <th>talk_time</th>\n",
       "      <th>three_g</th>\n",
       "      <th>touch_screen</th>\n",
       "      <th>wifi</th>\n",
       "    </tr>\n",
       "  </thead>\n",
       "  <tbody>\n",
       "    <tr>\n",
       "      <th>1898</th>\n",
       "      <td>684</td>\n",
       "      <td>1</td>\n",
       "      <td>0.9</td>\n",
       "      <td>1</td>\n",
       "      <td>3.0</td>\n",
       "      <td>1</td>\n",
       "      <td>63.0</td>\n",
       "      <td>1.0</td>\n",
       "      <td>157.0</td>\n",
       "      <td>5.0</td>\n",
       "      <td>9.0</td>\n",
       "      <td>159.0</td>\n",
       "      <td>1738.0</td>\n",
       "      <td>3756.0</td>\n",
       "      <td>17.0</td>\n",
       "      <td>5.0</td>\n",
       "      <td>12</td>\n",
       "      <td>1</td>\n",
       "      <td>1</td>\n",
       "      <td>1</td>\n",
       "    </tr>\n",
       "    <tr>\n",
       "      <th>280</th>\n",
       "      <td>1733</td>\n",
       "      <td>1</td>\n",
       "      <td>2.8</td>\n",
       "      <td>0</td>\n",
       "      <td>3.0</td>\n",
       "      <td>1</td>\n",
       "      <td>36.0</td>\n",
       "      <td>1.0</td>\n",
       "      <td>119.0</td>\n",
       "      <td>6.0</td>\n",
       "      <td>20.0</td>\n",
       "      <td>357.0</td>\n",
       "      <td>527.0</td>\n",
       "      <td>3576.0</td>\n",
       "      <td>17.0</td>\n",
       "      <td>16.0</td>\n",
       "      <td>9</td>\n",
       "      <td>1</td>\n",
       "      <td>0</td>\n",
       "      <td>0</td>\n",
       "    </tr>\n",
       "    <tr>\n",
       "      <th>915</th>\n",
       "      <td>1265</td>\n",
       "      <td>0</td>\n",
       "      <td>0.6</td>\n",
       "      <td>1</td>\n",
       "      <td>4.0</td>\n",
       "      <td>1</td>\n",
       "      <td>49.0</td>\n",
       "      <td>0.5</td>\n",
       "      <td>90.0</td>\n",
       "      <td>1.0</td>\n",
       "      <td>5.0</td>\n",
       "      <td>275.0</td>\n",
       "      <td>687.0</td>\n",
       "      <td>1518.0</td>\n",
       "      <td>16.0</td>\n",
       "      <td>11.0</td>\n",
       "      <td>8</td>\n",
       "      <td>1</td>\n",
       "      <td>0</td>\n",
       "      <td>1</td>\n",
       "    </tr>\n",
       "    <tr>\n",
       "      <th>846</th>\n",
       "      <td>1489</td>\n",
       "      <td>0</td>\n",
       "      <td>2.4</td>\n",
       "      <td>1</td>\n",
       "      <td>8.0</td>\n",
       "      <td>0</td>\n",
       "      <td>32.0</td>\n",
       "      <td>0.6</td>\n",
       "      <td>200.0</td>\n",
       "      <td>1.0</td>\n",
       "      <td>16.0</td>\n",
       "      <td>172.0</td>\n",
       "      <td>812.0</td>\n",
       "      <td>776.0</td>\n",
       "      <td>7.0</td>\n",
       "      <td>6.0</td>\n",
       "      <td>8</td>\n",
       "      <td>0</td>\n",
       "      <td>0</td>\n",
       "      <td>0</td>\n",
       "    </tr>\n",
       "    <tr>\n",
       "      <th>1629</th>\n",
       "      <td>1232</td>\n",
       "      <td>0</td>\n",
       "      <td>1.2</td>\n",
       "      <td>0</td>\n",
       "      <td>12.0</td>\n",
       "      <td>0</td>\n",
       "      <td>30.0</td>\n",
       "      <td>0.9</td>\n",
       "      <td>131.0</td>\n",
       "      <td>6.0</td>\n",
       "      <td>14.0</td>\n",
       "      <td>625.0</td>\n",
       "      <td>761.0</td>\n",
       "      <td>1656.0</td>\n",
       "      <td>8.0</td>\n",
       "      <td>4.0</td>\n",
       "      <td>15</td>\n",
       "      <td>1</td>\n",
       "      <td>1</td>\n",
       "      <td>1</td>\n",
       "    </tr>\n",
       "    <tr>\n",
       "      <th>...</th>\n",
       "      <td>...</td>\n",
       "      <td>...</td>\n",
       "      <td>...</td>\n",
       "      <td>...</td>\n",
       "      <td>...</td>\n",
       "      <td>...</td>\n",
       "      <td>...</td>\n",
       "      <td>...</td>\n",
       "      <td>...</td>\n",
       "      <td>...</td>\n",
       "      <td>...</td>\n",
       "      <td>...</td>\n",
       "      <td>...</td>\n",
       "      <td>...</td>\n",
       "      <td>...</td>\n",
       "      <td>...</td>\n",
       "      <td>...</td>\n",
       "      <td>...</td>\n",
       "      <td>...</td>\n",
       "      <td>...</td>\n",
       "    </tr>\n",
       "    <tr>\n",
       "      <th>1259</th>\n",
       "      <td>1796</td>\n",
       "      <td>0</td>\n",
       "      <td>1.6</td>\n",
       "      <td>1</td>\n",
       "      <td>5.0</td>\n",
       "      <td>0</td>\n",
       "      <td>7.0</td>\n",
       "      <td>0.1</td>\n",
       "      <td>101.0</td>\n",
       "      <td>4.0</td>\n",
       "      <td>6.0</td>\n",
       "      <td>667.0</td>\n",
       "      <td>798.0</td>\n",
       "      <td>1642.0</td>\n",
       "      <td>9.0</td>\n",
       "      <td>4.0</td>\n",
       "      <td>3</td>\n",
       "      <td>0</td>\n",
       "      <td>1</td>\n",
       "      <td>1</td>\n",
       "    </tr>\n",
       "    <tr>\n",
       "      <th>784</th>\n",
       "      <td>1892</td>\n",
       "      <td>1</td>\n",
       "      <td>0.7</td>\n",
       "      <td>0</td>\n",
       "      <td>5.0</td>\n",
       "      <td>0</td>\n",
       "      <td>47.0</td>\n",
       "      <td>0.4</td>\n",
       "      <td>110.0</td>\n",
       "      <td>4.0</td>\n",
       "      <td>10.0</td>\n",
       "      <td>1399.0</td>\n",
       "      <td>1564.0</td>\n",
       "      <td>2172.0</td>\n",
       "      <td>17.0</td>\n",
       "      <td>14.0</td>\n",
       "      <td>3</td>\n",
       "      <td>1</td>\n",
       "      <td>1</td>\n",
       "      <td>1</td>\n",
       "    </tr>\n",
       "    <tr>\n",
       "      <th>218</th>\n",
       "      <td>1886</td>\n",
       "      <td>0</td>\n",
       "      <td>0.5</td>\n",
       "      <td>0</td>\n",
       "      <td>0.0</td>\n",
       "      <td>1</td>\n",
       "      <td>24.0</td>\n",
       "      <td>0.4</td>\n",
       "      <td>112.0</td>\n",
       "      <td>3.0</td>\n",
       "      <td>1.0</td>\n",
       "      <td>809.0</td>\n",
       "      <td>1958.0</td>\n",
       "      <td>1179.0</td>\n",
       "      <td>16.0</td>\n",
       "      <td>7.0</td>\n",
       "      <td>20</td>\n",
       "      <td>1</td>\n",
       "      <td>0</td>\n",
       "      <td>1</td>\n",
       "    </tr>\n",
       "    <tr>\n",
       "      <th>1604</th>\n",
       "      <td>1179</td>\n",
       "      <td>1</td>\n",
       "      <td>0.8</td>\n",
       "      <td>0</td>\n",
       "      <td>1.0</td>\n",
       "      <td>0</td>\n",
       "      <td>5.0</td>\n",
       "      <td>0.9</td>\n",
       "      <td>154.0</td>\n",
       "      <td>5.0</td>\n",
       "      <td>17.0</td>\n",
       "      <td>913.0</td>\n",
       "      <td>1429.0</td>\n",
       "      <td>543.0</td>\n",
       "      <td>8.0</td>\n",
       "      <td>7.0</td>\n",
       "      <td>18</td>\n",
       "      <td>0</td>\n",
       "      <td>0</td>\n",
       "      <td>1</td>\n",
       "    </tr>\n",
       "    <tr>\n",
       "      <th>1182</th>\n",
       "      <td>709</td>\n",
       "      <td>0</td>\n",
       "      <td>1.9</td>\n",
       "      <td>0</td>\n",
       "      <td>11.0</td>\n",
       "      <td>1</td>\n",
       "      <td>13.0</td>\n",
       "      <td>0.1</td>\n",
       "      <td>81.0</td>\n",
       "      <td>8.0</td>\n",
       "      <td>15.0</td>\n",
       "      <td>570.0</td>\n",
       "      <td>1422.0</td>\n",
       "      <td>467.0</td>\n",
       "      <td>17.0</td>\n",
       "      <td>11.0</td>\n",
       "      <td>5</td>\n",
       "      <td>1</td>\n",
       "      <td>1</td>\n",
       "      <td>1</td>\n",
       "    </tr>\n",
       "  </tbody>\n",
       "</table>\n",
       "<p>1791 rows × 20 columns</p>\n",
       "</div>"
      ],
      "text/plain": [
       "      battery_power  blue  clock_speed  dual_sim    fc  four_g  int_memory  \\\n",
       "1898            684     1          0.9         1   3.0       1        63.0   \n",
       "280            1733     1          2.8         0   3.0       1        36.0   \n",
       "915            1265     0          0.6         1   4.0       1        49.0   \n",
       "846            1489     0          2.4         1   8.0       0        32.0   \n",
       "1629           1232     0          1.2         0  12.0       0        30.0   \n",
       "...             ...   ...          ...       ...   ...     ...         ...   \n",
       "1259           1796     0          1.6         1   5.0       0         7.0   \n",
       "784            1892     1          0.7         0   5.0       0        47.0   \n",
       "218            1886     0          0.5         0   0.0       1        24.0   \n",
       "1604           1179     1          0.8         0   1.0       0         5.0   \n",
       "1182            709     0          1.9         0  11.0       1        13.0   \n",
       "\n",
       "      m_dep  mobile_wt  n_cores    pc  px_height  px_width     ram  sc_h  \\\n",
       "1898    1.0      157.0      5.0   9.0      159.0    1738.0  3756.0  17.0   \n",
       "280     1.0      119.0      6.0  20.0      357.0     527.0  3576.0  17.0   \n",
       "915     0.5       90.0      1.0   5.0      275.0     687.0  1518.0  16.0   \n",
       "846     0.6      200.0      1.0  16.0      172.0     812.0   776.0   7.0   \n",
       "1629    0.9      131.0      6.0  14.0      625.0     761.0  1656.0   8.0   \n",
       "...     ...        ...      ...   ...        ...       ...     ...   ...   \n",
       "1259    0.1      101.0      4.0   6.0      667.0     798.0  1642.0   9.0   \n",
       "784     0.4      110.0      4.0  10.0     1399.0    1564.0  2172.0  17.0   \n",
       "218     0.4      112.0      3.0   1.0      809.0    1958.0  1179.0  16.0   \n",
       "1604    0.9      154.0      5.0  17.0      913.0    1429.0   543.0   8.0   \n",
       "1182    0.1       81.0      8.0  15.0      570.0    1422.0   467.0  17.0   \n",
       "\n",
       "      sc_w  talk_time  three_g  touch_screen  wifi  \n",
       "1898   5.0         12        1             1     1  \n",
       "280   16.0          9        1             0     0  \n",
       "915   11.0          8        1             0     1  \n",
       "846    6.0          8        0             0     0  \n",
       "1629   4.0         15        1             1     1  \n",
       "...    ...        ...      ...           ...   ...  \n",
       "1259   4.0          3        0             1     1  \n",
       "784   14.0          3        1             1     1  \n",
       "218    7.0         20        1             0     1  \n",
       "1604   7.0         18        0             0     1  \n",
       "1182  11.0          5        1             1     1  \n",
       "\n",
       "[1791 rows x 20 columns]"
      ]
     },
     "execution_count": 23,
     "metadata": {},
     "output_type": "execute_result"
    }
   ],
   "source": [
    "X_train"
   ]
  },
  {
   "cell_type": "code",
   "execution_count": 24,
   "metadata": {},
   "outputs": [
    {
     "data": {
      "text/plain": [
       "(200, 20)"
      ]
     },
     "execution_count": 24,
     "metadata": {},
     "output_type": "execute_result"
    }
   ],
   "source": [
    "X_val.shape"
   ]
  },
  {
   "cell_type": "code",
   "execution_count": 77,
   "metadata": {},
   "outputs": [
    {
     "data": {
      "text/html": [
       "<div>\n",
       "<style scoped>\n",
       "    .dataframe tbody tr th:only-of-type {\n",
       "        vertical-align: middle;\n",
       "    }\n",
       "\n",
       "    .dataframe tbody tr th {\n",
       "        vertical-align: top;\n",
       "    }\n",
       "\n",
       "    .dataframe thead th {\n",
       "        text-align: right;\n",
       "    }\n",
       "</style>\n",
       "<table border=\"1\" class=\"dataframe\">\n",
       "  <thead>\n",
       "    <tr style=\"text-align: right;\">\n",
       "      <th></th>\n",
       "      <th>battery_power</th>\n",
       "      <th>blue</th>\n",
       "      <th>clock_speed</th>\n",
       "      <th>dual_sim</th>\n",
       "      <th>fc</th>\n",
       "      <th>four_g</th>\n",
       "      <th>int_memory</th>\n",
       "      <th>m_dep</th>\n",
       "      <th>mobile_wt</th>\n",
       "      <th>n_cores</th>\n",
       "      <th>pc</th>\n",
       "      <th>px_height</th>\n",
       "      <th>px_width</th>\n",
       "      <th>ram</th>\n",
       "      <th>sc_h</th>\n",
       "      <th>sc_w</th>\n",
       "      <th>talk_time</th>\n",
       "      <th>three_g</th>\n",
       "      <th>touch_screen</th>\n",
       "      <th>wifi</th>\n",
       "    </tr>\n",
       "  </thead>\n",
       "  <tbody>\n",
       "    <tr>\n",
       "      <th>1667</th>\n",
       "      <td>1967</td>\n",
       "      <td>0</td>\n",
       "      <td>0.5</td>\n",
       "      <td>0</td>\n",
       "      <td>0.0</td>\n",
       "      <td>1</td>\n",
       "      <td>46.0</td>\n",
       "      <td>0.6</td>\n",
       "      <td>199.0</td>\n",
       "      <td>1.0</td>\n",
       "      <td>7.0</td>\n",
       "      <td>518.0</td>\n",
       "      <td>1374.0</td>\n",
       "      <td>1567.0</td>\n",
       "      <td>15.0</td>\n",
       "      <td>2.0</td>\n",
       "      <td>7</td>\n",
       "      <td>1</td>\n",
       "      <td>1</td>\n",
       "      <td>0</td>\n",
       "    </tr>\n",
       "    <tr>\n",
       "      <th>1618</th>\n",
       "      <td>502</td>\n",
       "      <td>0</td>\n",
       "      <td>0.8</td>\n",
       "      <td>0</td>\n",
       "      <td>7.0</td>\n",
       "      <td>0</td>\n",
       "      <td>52.0</td>\n",
       "      <td>1.0</td>\n",
       "      <td>82.0</td>\n",
       "      <td>6.0</td>\n",
       "      <td>8.0</td>\n",
       "      <td>281.0</td>\n",
       "      <td>1159.0</td>\n",
       "      <td>2666.0</td>\n",
       "      <td>5.0</td>\n",
       "      <td>4.0</td>\n",
       "      <td>20</td>\n",
       "      <td>1</td>\n",
       "      <td>1</td>\n",
       "      <td>0</td>\n",
       "    </tr>\n",
       "    <tr>\n",
       "      <th>557</th>\n",
       "      <td>1519</td>\n",
       "      <td>0</td>\n",
       "      <td>2.1</td>\n",
       "      <td>0</td>\n",
       "      <td>0.0</td>\n",
       "      <td>0</td>\n",
       "      <td>32.0</td>\n",
       "      <td>0.7</td>\n",
       "      <td>200.0</td>\n",
       "      <td>1.0</td>\n",
       "      <td>10.0</td>\n",
       "      <td>168.0</td>\n",
       "      <td>1239.0</td>\n",
       "      <td>2912.0</td>\n",
       "      <td>11.0</td>\n",
       "      <td>10.0</td>\n",
       "      <td>15</td>\n",
       "      <td>1</td>\n",
       "      <td>1</td>\n",
       "      <td>0</td>\n",
       "    </tr>\n",
       "    <tr>\n",
       "      <th>631</th>\n",
       "      <td>1063</td>\n",
       "      <td>1</td>\n",
       "      <td>1.1</td>\n",
       "      <td>0</td>\n",
       "      <td>0.0</td>\n",
       "      <td>1</td>\n",
       "      <td>26.0</td>\n",
       "      <td>0.8</td>\n",
       "      <td>101.0</td>\n",
       "      <td>5.0</td>\n",
       "      <td>2.0</td>\n",
       "      <td>1208.0</td>\n",
       "      <td>1232.0</td>\n",
       "      <td>3809.0</td>\n",
       "      <td>17.0</td>\n",
       "      <td>16.0</td>\n",
       "      <td>5</td>\n",
       "      <td>1</td>\n",
       "      <td>0</td>\n",
       "      <td>1</td>\n",
       "    </tr>\n",
       "    <tr>\n",
       "      <th>1529</th>\n",
       "      <td>1831</td>\n",
       "      <td>1</td>\n",
       "      <td>2.2</td>\n",
       "      <td>1</td>\n",
       "      <td>4.0</td>\n",
       "      <td>0</td>\n",
       "      <td>55.0</td>\n",
       "      <td>1.0</td>\n",
       "      <td>189.0</td>\n",
       "      <td>8.0</td>\n",
       "      <td>9.0</td>\n",
       "      <td>1693.0</td>\n",
       "      <td>1790.0</td>\n",
       "      <td>1133.0</td>\n",
       "      <td>14.0</td>\n",
       "      <td>3.0</td>\n",
       "      <td>10</td>\n",
       "      <td>0</td>\n",
       "      <td>1</td>\n",
       "      <td>0</td>\n",
       "    </tr>\n",
       "    <tr>\n",
       "      <th>...</th>\n",
       "      <td>...</td>\n",
       "      <td>...</td>\n",
       "      <td>...</td>\n",
       "      <td>...</td>\n",
       "      <td>...</td>\n",
       "      <td>...</td>\n",
       "      <td>...</td>\n",
       "      <td>...</td>\n",
       "      <td>...</td>\n",
       "      <td>...</td>\n",
       "      <td>...</td>\n",
       "      <td>...</td>\n",
       "      <td>...</td>\n",
       "      <td>...</td>\n",
       "      <td>...</td>\n",
       "      <td>...</td>\n",
       "      <td>...</td>\n",
       "      <td>...</td>\n",
       "      <td>...</td>\n",
       "      <td>...</td>\n",
       "    </tr>\n",
       "    <tr>\n",
       "      <th>1583</th>\n",
       "      <td>964</td>\n",
       "      <td>0</td>\n",
       "      <td>2.0</td>\n",
       "      <td>0</td>\n",
       "      <td>0.0</td>\n",
       "      <td>1</td>\n",
       "      <td>22.0</td>\n",
       "      <td>0.7</td>\n",
       "      <td>86.0</td>\n",
       "      <td>8.0</td>\n",
       "      <td>0.0</td>\n",
       "      <td>225.0</td>\n",
       "      <td>1234.0</td>\n",
       "      <td>2577.0</td>\n",
       "      <td>17.0</td>\n",
       "      <td>16.0</td>\n",
       "      <td>5</td>\n",
       "      <td>1</td>\n",
       "      <td>1</td>\n",
       "      <td>0</td>\n",
       "    </tr>\n",
       "    <tr>\n",
       "      <th>625</th>\n",
       "      <td>501</td>\n",
       "      <td>0</td>\n",
       "      <td>2.3</td>\n",
       "      <td>0</td>\n",
       "      <td>12.0</td>\n",
       "      <td>1</td>\n",
       "      <td>54.0</td>\n",
       "      <td>0.3</td>\n",
       "      <td>131.0</td>\n",
       "      <td>4.0</td>\n",
       "      <td>19.0</td>\n",
       "      <td>504.0</td>\n",
       "      <td>1089.0</td>\n",
       "      <td>2346.0</td>\n",
       "      <td>13.0</td>\n",
       "      <td>12.0</td>\n",
       "      <td>2</td>\n",
       "      <td>1</td>\n",
       "      <td>0</td>\n",
       "      <td>1</td>\n",
       "    </tr>\n",
       "    <tr>\n",
       "      <th>16</th>\n",
       "      <td>838</td>\n",
       "      <td>0</td>\n",
       "      <td>0.5</td>\n",
       "      <td>0</td>\n",
       "      <td>1.0</td>\n",
       "      <td>1</td>\n",
       "      <td>13.0</td>\n",
       "      <td>0.1</td>\n",
       "      <td>196.0</td>\n",
       "      <td>8.0</td>\n",
       "      <td>4.0</td>\n",
       "      <td>984.0</td>\n",
       "      <td>1850.0</td>\n",
       "      <td>3554.0</td>\n",
       "      <td>10.0</td>\n",
       "      <td>9.0</td>\n",
       "      <td>19</td>\n",
       "      <td>1</td>\n",
       "      <td>0</td>\n",
       "      <td>1</td>\n",
       "    </tr>\n",
       "    <tr>\n",
       "      <th>380</th>\n",
       "      <td>1874</td>\n",
       "      <td>1</td>\n",
       "      <td>2.7</td>\n",
       "      <td>1</td>\n",
       "      <td>10.0</td>\n",
       "      <td>0</td>\n",
       "      <td>8.0</td>\n",
       "      <td>0.9</td>\n",
       "      <td>166.0</td>\n",
       "      <td>7.0</td>\n",
       "      <td>13.0</td>\n",
       "      <td>964.0</td>\n",
       "      <td>1233.0</td>\n",
       "      <td>1246.0</td>\n",
       "      <td>8.0</td>\n",
       "      <td>1.0</td>\n",
       "      <td>2</td>\n",
       "      <td>0</td>\n",
       "      <td>0</td>\n",
       "      <td>1</td>\n",
       "    </tr>\n",
       "    <tr>\n",
       "      <th>905</th>\n",
       "      <td>989</td>\n",
       "      <td>1</td>\n",
       "      <td>2.0</td>\n",
       "      <td>0</td>\n",
       "      <td>4.0</td>\n",
       "      <td>0</td>\n",
       "      <td>17.0</td>\n",
       "      <td>0.2</td>\n",
       "      <td>166.0</td>\n",
       "      <td>3.0</td>\n",
       "      <td>19.0</td>\n",
       "      <td>256.0</td>\n",
       "      <td>1394.0</td>\n",
       "      <td>3892.0</td>\n",
       "      <td>18.0</td>\n",
       "      <td>7.0</td>\n",
       "      <td>19</td>\n",
       "      <td>1</td>\n",
       "      <td>1</td>\n",
       "      <td>0</td>\n",
       "    </tr>\n",
       "  </tbody>\n",
       "</table>\n",
       "<p>200 rows × 20 columns</p>\n",
       "</div>"
      ],
      "text/plain": [
       "      battery_power  blue  clock_speed  dual_sim    fc  four_g  int_memory  \\\n",
       "1667           1967     0          0.5         0   0.0       1        46.0   \n",
       "1618            502     0          0.8         0   7.0       0        52.0   \n",
       "557            1519     0          2.1         0   0.0       0        32.0   \n",
       "631            1063     1          1.1         0   0.0       1        26.0   \n",
       "1529           1831     1          2.2         1   4.0       0        55.0   \n",
       "...             ...   ...          ...       ...   ...     ...         ...   \n",
       "1583            964     0          2.0         0   0.0       1        22.0   \n",
       "625             501     0          2.3         0  12.0       1        54.0   \n",
       "16              838     0          0.5         0   1.0       1        13.0   \n",
       "380            1874     1          2.7         1  10.0       0         8.0   \n",
       "905             989     1          2.0         0   4.0       0        17.0   \n",
       "\n",
       "      m_dep  mobile_wt  n_cores    pc  px_height  px_width     ram  sc_h  \\\n",
       "1667    0.6      199.0      1.0   7.0      518.0    1374.0  1567.0  15.0   \n",
       "1618    1.0       82.0      6.0   8.0      281.0    1159.0  2666.0   5.0   \n",
       "557     0.7      200.0      1.0  10.0      168.0    1239.0  2912.0  11.0   \n",
       "631     0.8      101.0      5.0   2.0     1208.0    1232.0  3809.0  17.0   \n",
       "1529    1.0      189.0      8.0   9.0     1693.0    1790.0  1133.0  14.0   \n",
       "...     ...        ...      ...   ...        ...       ...     ...   ...   \n",
       "1583    0.7       86.0      8.0   0.0      225.0    1234.0  2577.0  17.0   \n",
       "625     0.3      131.0      4.0  19.0      504.0    1089.0  2346.0  13.0   \n",
       "16      0.1      196.0      8.0   4.0      984.0    1850.0  3554.0  10.0   \n",
       "380     0.9      166.0      7.0  13.0      964.0    1233.0  1246.0   8.0   \n",
       "905     0.2      166.0      3.0  19.0      256.0    1394.0  3892.0  18.0   \n",
       "\n",
       "      sc_w  talk_time  three_g  touch_screen  wifi  \n",
       "1667   2.0          7        1             1     0  \n",
       "1618   4.0         20        1             1     0  \n",
       "557   10.0         15        1             1     0  \n",
       "631   16.0          5        1             0     1  \n",
       "1529   3.0         10        0             1     0  \n",
       "...    ...        ...      ...           ...   ...  \n",
       "1583  16.0          5        1             1     0  \n",
       "625   12.0          2        1             0     1  \n",
       "16     9.0         19        1             0     1  \n",
       "380    1.0          2        0             0     1  \n",
       "905    7.0         19        1             1     0  \n",
       "\n",
       "[200 rows x 20 columns]"
      ]
     },
     "execution_count": 77,
     "metadata": {},
     "output_type": "execute_result"
    }
   ],
   "source": [
    "X_val"
   ]
  },
  {
   "cell_type": "code",
   "execution_count": 78,
   "metadata": {},
   "outputs": [
    {
     "data": {
      "text/plain": [
       "1667    1\n",
       "1618    2\n",
       "557     2\n",
       "631     3\n",
       "1529    1\n",
       "       ..\n",
       "1583    2\n",
       "625     1\n",
       "16      3\n",
       "380     1\n",
       "905     3\n",
       "Name: price_range, Length: 200, dtype: int64"
      ]
     },
     "execution_count": 78,
     "metadata": {},
     "output_type": "execute_result"
    }
   ],
   "source": [
    "Y_val"
   ]
  },
  {
   "cell_type": "markdown",
   "metadata": {},
   "source": [
    "## Normalization"
   ]
  },
  {
   "cell_type": "markdown",
   "metadata": {},
   "source": [
    "### Select the numeric feature"
   ]
  },
  {
   "cell_type": "code",
   "execution_count": 25,
   "metadata": {},
   "outputs": [],
   "source": [
    "numeric_cols = ['battery_power', 'clock_speed', 'fc', 'int_memory', 'm_dep', 'mobile_wt', 'pc', 'px_height', 'px_width', 'ram', 'sc_h',\n",
    "                'sc_w','talk_time']"
   ]
  },
  {
   "cell_type": "code",
   "execution_count": 26,
   "metadata": {},
   "outputs": [],
   "source": [
    "X_train_scaled=X_train.copy()\n",
    "X_val_scaled=X_val.copy()"
   ]
  },
  {
   "cell_type": "code",
   "execution_count": 27,
   "metadata": {},
   "outputs": [],
   "source": [
    "scaler = StandardScaler()\n",
    "\n",
    "X_train_scaled[numeric_cols] = scaler.fit_transform(X_train_scaled[numeric_cols])\n",
    "X_val_scaled[numeric_cols] = scaler.transform(X_val_scaled[numeric_cols])"
   ]
  },
  {
   "cell_type": "code",
   "execution_count": 28,
   "metadata": {},
   "outputs": [
    {
     "data": {
      "text/html": [
       "<div>\n",
       "<style scoped>\n",
       "    .dataframe tbody tr th:only-of-type {\n",
       "        vertical-align: middle;\n",
       "    }\n",
       "\n",
       "    .dataframe tbody tr th {\n",
       "        vertical-align: top;\n",
       "    }\n",
       "\n",
       "    .dataframe thead th {\n",
       "        text-align: right;\n",
       "    }\n",
       "</style>\n",
       "<table border=\"1\" class=\"dataframe\">\n",
       "  <thead>\n",
       "    <tr style=\"text-align: right;\">\n",
       "      <th></th>\n",
       "      <th>battery_power</th>\n",
       "      <th>blue</th>\n",
       "      <th>clock_speed</th>\n",
       "      <th>dual_sim</th>\n",
       "      <th>fc</th>\n",
       "      <th>four_g</th>\n",
       "      <th>int_memory</th>\n",
       "      <th>m_dep</th>\n",
       "      <th>mobile_wt</th>\n",
       "      <th>n_cores</th>\n",
       "      <th>pc</th>\n",
       "      <th>px_height</th>\n",
       "      <th>px_width</th>\n",
       "      <th>ram</th>\n",
       "      <th>sc_h</th>\n",
       "      <th>sc_w</th>\n",
       "      <th>talk_time</th>\n",
       "      <th>three_g</th>\n",
       "      <th>touch_screen</th>\n",
       "      <th>wifi</th>\n",
       "    </tr>\n",
       "  </thead>\n",
       "  <tbody>\n",
       "    <tr>\n",
       "      <th>1898</th>\n",
       "      <td>684</td>\n",
       "      <td>1</td>\n",
       "      <td>0.9</td>\n",
       "      <td>1</td>\n",
       "      <td>3.0</td>\n",
       "      <td>1</td>\n",
       "      <td>63.0</td>\n",
       "      <td>1.0</td>\n",
       "      <td>157.0</td>\n",
       "      <td>5.0</td>\n",
       "      <td>9.0</td>\n",
       "      <td>159.0</td>\n",
       "      <td>1738.0</td>\n",
       "      <td>3756.0</td>\n",
       "      <td>17.0</td>\n",
       "      <td>5.0</td>\n",
       "      <td>12</td>\n",
       "      <td>1</td>\n",
       "      <td>1</td>\n",
       "      <td>1</td>\n",
       "    </tr>\n",
       "    <tr>\n",
       "      <th>280</th>\n",
       "      <td>1733</td>\n",
       "      <td>1</td>\n",
       "      <td>2.8</td>\n",
       "      <td>0</td>\n",
       "      <td>3.0</td>\n",
       "      <td>1</td>\n",
       "      <td>36.0</td>\n",
       "      <td>1.0</td>\n",
       "      <td>119.0</td>\n",
       "      <td>6.0</td>\n",
       "      <td>20.0</td>\n",
       "      <td>357.0</td>\n",
       "      <td>527.0</td>\n",
       "      <td>3576.0</td>\n",
       "      <td>17.0</td>\n",
       "      <td>16.0</td>\n",
       "      <td>9</td>\n",
       "      <td>1</td>\n",
       "      <td>0</td>\n",
       "      <td>0</td>\n",
       "    </tr>\n",
       "    <tr>\n",
       "      <th>915</th>\n",
       "      <td>1265</td>\n",
       "      <td>0</td>\n",
       "      <td>0.6</td>\n",
       "      <td>1</td>\n",
       "      <td>4.0</td>\n",
       "      <td>1</td>\n",
       "      <td>49.0</td>\n",
       "      <td>0.5</td>\n",
       "      <td>90.0</td>\n",
       "      <td>1.0</td>\n",
       "      <td>5.0</td>\n",
       "      <td>275.0</td>\n",
       "      <td>687.0</td>\n",
       "      <td>1518.0</td>\n",
       "      <td>16.0</td>\n",
       "      <td>11.0</td>\n",
       "      <td>8</td>\n",
       "      <td>1</td>\n",
       "      <td>0</td>\n",
       "      <td>1</td>\n",
       "    </tr>\n",
       "    <tr>\n",
       "      <th>846</th>\n",
       "      <td>1489</td>\n",
       "      <td>0</td>\n",
       "      <td>2.4</td>\n",
       "      <td>1</td>\n",
       "      <td>8.0</td>\n",
       "      <td>0</td>\n",
       "      <td>32.0</td>\n",
       "      <td>0.6</td>\n",
       "      <td>200.0</td>\n",
       "      <td>1.0</td>\n",
       "      <td>16.0</td>\n",
       "      <td>172.0</td>\n",
       "      <td>812.0</td>\n",
       "      <td>776.0</td>\n",
       "      <td>7.0</td>\n",
       "      <td>6.0</td>\n",
       "      <td>8</td>\n",
       "      <td>0</td>\n",
       "      <td>0</td>\n",
       "      <td>0</td>\n",
       "    </tr>\n",
       "    <tr>\n",
       "      <th>1629</th>\n",
       "      <td>1232</td>\n",
       "      <td>0</td>\n",
       "      <td>1.2</td>\n",
       "      <td>0</td>\n",
       "      <td>12.0</td>\n",
       "      <td>0</td>\n",
       "      <td>30.0</td>\n",
       "      <td>0.9</td>\n",
       "      <td>131.0</td>\n",
       "      <td>6.0</td>\n",
       "      <td>14.0</td>\n",
       "      <td>625.0</td>\n",
       "      <td>761.0</td>\n",
       "      <td>1656.0</td>\n",
       "      <td>8.0</td>\n",
       "      <td>4.0</td>\n",
       "      <td>15</td>\n",
       "      <td>1</td>\n",
       "      <td>1</td>\n",
       "      <td>1</td>\n",
       "    </tr>\n",
       "    <tr>\n",
       "      <th>...</th>\n",
       "      <td>...</td>\n",
       "      <td>...</td>\n",
       "      <td>...</td>\n",
       "      <td>...</td>\n",
       "      <td>...</td>\n",
       "      <td>...</td>\n",
       "      <td>...</td>\n",
       "      <td>...</td>\n",
       "      <td>...</td>\n",
       "      <td>...</td>\n",
       "      <td>...</td>\n",
       "      <td>...</td>\n",
       "      <td>...</td>\n",
       "      <td>...</td>\n",
       "      <td>...</td>\n",
       "      <td>...</td>\n",
       "      <td>...</td>\n",
       "      <td>...</td>\n",
       "      <td>...</td>\n",
       "      <td>...</td>\n",
       "    </tr>\n",
       "    <tr>\n",
       "      <th>1259</th>\n",
       "      <td>1796</td>\n",
       "      <td>0</td>\n",
       "      <td>1.6</td>\n",
       "      <td>1</td>\n",
       "      <td>5.0</td>\n",
       "      <td>0</td>\n",
       "      <td>7.0</td>\n",
       "      <td>0.1</td>\n",
       "      <td>101.0</td>\n",
       "      <td>4.0</td>\n",
       "      <td>6.0</td>\n",
       "      <td>667.0</td>\n",
       "      <td>798.0</td>\n",
       "      <td>1642.0</td>\n",
       "      <td>9.0</td>\n",
       "      <td>4.0</td>\n",
       "      <td>3</td>\n",
       "      <td>0</td>\n",
       "      <td>1</td>\n",
       "      <td>1</td>\n",
       "    </tr>\n",
       "    <tr>\n",
       "      <th>784</th>\n",
       "      <td>1892</td>\n",
       "      <td>1</td>\n",
       "      <td>0.7</td>\n",
       "      <td>0</td>\n",
       "      <td>5.0</td>\n",
       "      <td>0</td>\n",
       "      <td>47.0</td>\n",
       "      <td>0.4</td>\n",
       "      <td>110.0</td>\n",
       "      <td>4.0</td>\n",
       "      <td>10.0</td>\n",
       "      <td>1399.0</td>\n",
       "      <td>1564.0</td>\n",
       "      <td>2172.0</td>\n",
       "      <td>17.0</td>\n",
       "      <td>14.0</td>\n",
       "      <td>3</td>\n",
       "      <td>1</td>\n",
       "      <td>1</td>\n",
       "      <td>1</td>\n",
       "    </tr>\n",
       "    <tr>\n",
       "      <th>218</th>\n",
       "      <td>1886</td>\n",
       "      <td>0</td>\n",
       "      <td>0.5</td>\n",
       "      <td>0</td>\n",
       "      <td>0.0</td>\n",
       "      <td>1</td>\n",
       "      <td>24.0</td>\n",
       "      <td>0.4</td>\n",
       "      <td>112.0</td>\n",
       "      <td>3.0</td>\n",
       "      <td>1.0</td>\n",
       "      <td>809.0</td>\n",
       "      <td>1958.0</td>\n",
       "      <td>1179.0</td>\n",
       "      <td>16.0</td>\n",
       "      <td>7.0</td>\n",
       "      <td>20</td>\n",
       "      <td>1</td>\n",
       "      <td>0</td>\n",
       "      <td>1</td>\n",
       "    </tr>\n",
       "    <tr>\n",
       "      <th>1604</th>\n",
       "      <td>1179</td>\n",
       "      <td>1</td>\n",
       "      <td>0.8</td>\n",
       "      <td>0</td>\n",
       "      <td>1.0</td>\n",
       "      <td>0</td>\n",
       "      <td>5.0</td>\n",
       "      <td>0.9</td>\n",
       "      <td>154.0</td>\n",
       "      <td>5.0</td>\n",
       "      <td>17.0</td>\n",
       "      <td>913.0</td>\n",
       "      <td>1429.0</td>\n",
       "      <td>543.0</td>\n",
       "      <td>8.0</td>\n",
       "      <td>7.0</td>\n",
       "      <td>18</td>\n",
       "      <td>0</td>\n",
       "      <td>0</td>\n",
       "      <td>1</td>\n",
       "    </tr>\n",
       "    <tr>\n",
       "      <th>1182</th>\n",
       "      <td>709</td>\n",
       "      <td>0</td>\n",
       "      <td>1.9</td>\n",
       "      <td>0</td>\n",
       "      <td>11.0</td>\n",
       "      <td>1</td>\n",
       "      <td>13.0</td>\n",
       "      <td>0.1</td>\n",
       "      <td>81.0</td>\n",
       "      <td>8.0</td>\n",
       "      <td>15.0</td>\n",
       "      <td>570.0</td>\n",
       "      <td>1422.0</td>\n",
       "      <td>467.0</td>\n",
       "      <td>17.0</td>\n",
       "      <td>11.0</td>\n",
       "      <td>5</td>\n",
       "      <td>1</td>\n",
       "      <td>1</td>\n",
       "      <td>1</td>\n",
       "    </tr>\n",
       "  </tbody>\n",
       "</table>\n",
       "<p>1791 rows × 20 columns</p>\n",
       "</div>"
      ],
      "text/plain": [
       "      battery_power  blue  clock_speed  dual_sim    fc  four_g  int_memory  \\\n",
       "1898            684     1          0.9         1   3.0       1        63.0   \n",
       "280            1733     1          2.8         0   3.0       1        36.0   \n",
       "915            1265     0          0.6         1   4.0       1        49.0   \n",
       "846            1489     0          2.4         1   8.0       0        32.0   \n",
       "1629           1232     0          1.2         0  12.0       0        30.0   \n",
       "...             ...   ...          ...       ...   ...     ...         ...   \n",
       "1259           1796     0          1.6         1   5.0       0         7.0   \n",
       "784            1892     1          0.7         0   5.0       0        47.0   \n",
       "218            1886     0          0.5         0   0.0       1        24.0   \n",
       "1604           1179     1          0.8         0   1.0       0         5.0   \n",
       "1182            709     0          1.9         0  11.0       1        13.0   \n",
       "\n",
       "      m_dep  mobile_wt  n_cores    pc  px_height  px_width     ram  sc_h  \\\n",
       "1898    1.0      157.0      5.0   9.0      159.0    1738.0  3756.0  17.0   \n",
       "280     1.0      119.0      6.0  20.0      357.0     527.0  3576.0  17.0   \n",
       "915     0.5       90.0      1.0   5.0      275.0     687.0  1518.0  16.0   \n",
       "846     0.6      200.0      1.0  16.0      172.0     812.0   776.0   7.0   \n",
       "1629    0.9      131.0      6.0  14.0      625.0     761.0  1656.0   8.0   \n",
       "...     ...        ...      ...   ...        ...       ...     ...   ...   \n",
       "1259    0.1      101.0      4.0   6.0      667.0     798.0  1642.0   9.0   \n",
       "784     0.4      110.0      4.0  10.0     1399.0    1564.0  2172.0  17.0   \n",
       "218     0.4      112.0      3.0   1.0      809.0    1958.0  1179.0  16.0   \n",
       "1604    0.9      154.0      5.0  17.0      913.0    1429.0   543.0   8.0   \n",
       "1182    0.1       81.0      8.0  15.0      570.0    1422.0   467.0  17.0   \n",
       "\n",
       "      sc_w  talk_time  three_g  touch_screen  wifi  \n",
       "1898   5.0         12        1             1     1  \n",
       "280   16.0          9        1             0     0  \n",
       "915   11.0          8        1             0     1  \n",
       "846    6.0          8        0             0     0  \n",
       "1629   4.0         15        1             1     1  \n",
       "...    ...        ...      ...           ...   ...  \n",
       "1259   4.0          3        0             1     1  \n",
       "784   14.0          3        1             1     1  \n",
       "218    7.0         20        1             0     1  \n",
       "1604   7.0         18        0             0     1  \n",
       "1182  11.0          5        1             1     1  \n",
       "\n",
       "[1791 rows x 20 columns]"
      ]
     },
     "execution_count": 28,
     "metadata": {},
     "output_type": "execute_result"
    }
   ],
   "source": [
    "X_train"
   ]
  },
  {
   "cell_type": "code",
   "execution_count": 29,
   "metadata": {},
   "outputs": [
    {
     "data": {
      "text/html": [
       "<div>\n",
       "<style scoped>\n",
       "    .dataframe tbody tr th:only-of-type {\n",
       "        vertical-align: middle;\n",
       "    }\n",
       "\n",
       "    .dataframe tbody tr th {\n",
       "        vertical-align: top;\n",
       "    }\n",
       "\n",
       "    .dataframe thead th {\n",
       "        text-align: right;\n",
       "    }\n",
       "</style>\n",
       "<table border=\"1\" class=\"dataframe\">\n",
       "  <thead>\n",
       "    <tr style=\"text-align: right;\">\n",
       "      <th></th>\n",
       "      <th>battery_power</th>\n",
       "      <th>blue</th>\n",
       "      <th>clock_speed</th>\n",
       "      <th>dual_sim</th>\n",
       "      <th>fc</th>\n",
       "      <th>four_g</th>\n",
       "      <th>int_memory</th>\n",
       "      <th>m_dep</th>\n",
       "      <th>mobile_wt</th>\n",
       "      <th>n_cores</th>\n",
       "      <th>pc</th>\n",
       "      <th>px_height</th>\n",
       "      <th>px_width</th>\n",
       "      <th>ram</th>\n",
       "      <th>sc_h</th>\n",
       "      <th>sc_w</th>\n",
       "      <th>talk_time</th>\n",
       "      <th>three_g</th>\n",
       "      <th>touch_screen</th>\n",
       "      <th>wifi</th>\n",
       "    </tr>\n",
       "  </thead>\n",
       "  <tbody>\n",
       "    <tr>\n",
       "      <th>1898</th>\n",
       "      <td>-1.258979</td>\n",
       "      <td>1</td>\n",
       "      <td>-0.759298</td>\n",
       "      <td>1</td>\n",
       "      <td>-0.302629</td>\n",
       "      <td>1</td>\n",
       "      <td>1.696994</td>\n",
       "      <td>1.711253</td>\n",
       "      <td>0.485801</td>\n",
       "      <td>5.0</td>\n",
       "      <td>-0.147868</td>\n",
       "      <td>-1.087911</td>\n",
       "      <td>1.135426</td>\n",
       "      <td>1.499310</td>\n",
       "      <td>1.116953</td>\n",
       "      <td>-0.183104</td>\n",
       "      <td>0.193493</td>\n",
       "      <td>1</td>\n",
       "      <td>1</td>\n",
       "      <td>1</td>\n",
       "    </tr>\n",
       "    <tr>\n",
       "      <th>280</th>\n",
       "      <td>1.120083</td>\n",
       "      <td>1</td>\n",
       "      <td>1.587277</td>\n",
       "      <td>0</td>\n",
       "      <td>-0.302629</td>\n",
       "      <td>1</td>\n",
       "      <td>0.210614</td>\n",
       "      <td>1.711253</td>\n",
       "      <td>-0.593478</td>\n",
       "      <td>6.0</td>\n",
       "      <td>1.677418</td>\n",
       "      <td>-0.643955</td>\n",
       "      <td>-1.676224</td>\n",
       "      <td>1.333821</td>\n",
       "      <td>1.116953</td>\n",
       "      <td>2.355487</td>\n",
       "      <td>-0.352536</td>\n",
       "      <td>1</td>\n",
       "      <td>0</td>\n",
       "      <td>0</td>\n",
       "    </tr>\n",
       "    <tr>\n",
       "      <th>915</th>\n",
       "      <td>0.058690</td>\n",
       "      <td>0</td>\n",
       "      <td>-1.129809</td>\n",
       "      <td>1</td>\n",
       "      <td>-0.071298</td>\n",
       "      <td>1</td>\n",
       "      <td>0.926278</td>\n",
       "      <td>-0.019325</td>\n",
       "      <td>-1.417138</td>\n",
       "      <td>1.0</td>\n",
       "      <td>-0.811609</td>\n",
       "      <td>-0.827815</td>\n",
       "      <td>-1.304743</td>\n",
       "      <td>-0.558269</td>\n",
       "      <td>0.879368</td>\n",
       "      <td>1.201582</td>\n",
       "      <td>-0.534545</td>\n",
       "      <td>1</td>\n",
       "      <td>0</td>\n",
       "      <td>1</td>\n",
       "    </tr>\n",
       "    <tr>\n",
       "      <th>846</th>\n",
       "      <td>0.566707</td>\n",
       "      <td>0</td>\n",
       "      <td>1.093262</td>\n",
       "      <td>1</td>\n",
       "      <td>0.854026</td>\n",
       "      <td>0</td>\n",
       "      <td>-0.009590</td>\n",
       "      <td>0.326790</td>\n",
       "      <td>1.707090</td>\n",
       "      <td>1.0</td>\n",
       "      <td>1.013677</td>\n",
       "      <td>-1.058762</td>\n",
       "      <td>-1.014523</td>\n",
       "      <td>-1.240450</td>\n",
       "      <td>-1.258893</td>\n",
       "      <td>0.047677</td>\n",
       "      <td>-0.534545</td>\n",
       "      <td>0</td>\n",
       "      <td>0</td>\n",
       "      <td>0</td>\n",
       "    </tr>\n",
       "    <tr>\n",
       "      <th>1629</th>\n",
       "      <td>-0.016152</td>\n",
       "      <td>0</td>\n",
       "      <td>-0.388786</td>\n",
       "      <td>0</td>\n",
       "      <td>1.779350</td>\n",
       "      <td>0</td>\n",
       "      <td>-0.119692</td>\n",
       "      <td>1.365137</td>\n",
       "      <td>-0.252653</td>\n",
       "      <td>6.0</td>\n",
       "      <td>0.681807</td>\n",
       "      <td>-0.043044</td>\n",
       "      <td>-1.132933</td>\n",
       "      <td>-0.431394</td>\n",
       "      <td>-1.021309</td>\n",
       "      <td>-0.413885</td>\n",
       "      <td>0.739522</td>\n",
       "      <td>1</td>\n",
       "      <td>1</td>\n",
       "      <td>1</td>\n",
       "    </tr>\n",
       "    <tr>\n",
       "      <th>...</th>\n",
       "      <td>...</td>\n",
       "      <td>...</td>\n",
       "      <td>...</td>\n",
       "      <td>...</td>\n",
       "      <td>...</td>\n",
       "      <td>...</td>\n",
       "      <td>...</td>\n",
       "      <td>...</td>\n",
       "      <td>...</td>\n",
       "      <td>...</td>\n",
       "      <td>...</td>\n",
       "      <td>...</td>\n",
       "      <td>...</td>\n",
       "      <td>...</td>\n",
       "      <td>...</td>\n",
       "      <td>...</td>\n",
       "      <td>...</td>\n",
       "      <td>...</td>\n",
       "      <td>...</td>\n",
       "      <td>...</td>\n",
       "    </tr>\n",
       "    <tr>\n",
       "      <th>1259</th>\n",
       "      <td>1.262963</td>\n",
       "      <td>0</td>\n",
       "      <td>0.105230</td>\n",
       "      <td>1</td>\n",
       "      <td>0.160033</td>\n",
       "      <td>0</td>\n",
       "      <td>-1.385867</td>\n",
       "      <td>-1.403788</td>\n",
       "      <td>-1.104715</td>\n",
       "      <td>4.0</td>\n",
       "      <td>-0.645674</td>\n",
       "      <td>0.051129</td>\n",
       "      <td>-1.047028</td>\n",
       "      <td>-0.444265</td>\n",
       "      <td>-0.783724</td>\n",
       "      <td>-0.413885</td>\n",
       "      <td>-1.444593</td>\n",
       "      <td>0</td>\n",
       "      <td>1</td>\n",
       "      <td>1</td>\n",
       "    </tr>\n",
       "    <tr>\n",
       "      <th>784</th>\n",
       "      <td>1.480685</td>\n",
       "      <td>1</td>\n",
       "      <td>-1.006305</td>\n",
       "      <td>0</td>\n",
       "      <td>0.160033</td>\n",
       "      <td>0</td>\n",
       "      <td>0.816176</td>\n",
       "      <td>-0.365441</td>\n",
       "      <td>-0.849097</td>\n",
       "      <td>4.0</td>\n",
       "      <td>0.018067</td>\n",
       "      <td>1.692422</td>\n",
       "      <td>0.731440</td>\n",
       "      <td>0.043008</td>\n",
       "      <td>1.116953</td>\n",
       "      <td>1.893925</td>\n",
       "      <td>-1.444593</td>\n",
       "      <td>1</td>\n",
       "      <td>1</td>\n",
       "      <td>1</td>\n",
       "    </tr>\n",
       "    <tr>\n",
       "      <th>218</th>\n",
       "      <td>1.467077</td>\n",
       "      <td>0</td>\n",
       "      <td>-1.253313</td>\n",
       "      <td>0</td>\n",
       "      <td>-0.996622</td>\n",
       "      <td>1</td>\n",
       "      <td>-0.449999</td>\n",
       "      <td>-0.365441</td>\n",
       "      <td>-0.792293</td>\n",
       "      <td>3.0</td>\n",
       "      <td>-1.475349</td>\n",
       "      <td>0.369522</td>\n",
       "      <td>1.646213</td>\n",
       "      <td>-0.869939</td>\n",
       "      <td>0.879368</td>\n",
       "      <td>0.278458</td>\n",
       "      <td>1.649570</td>\n",
       "      <td>1</td>\n",
       "      <td>0</td>\n",
       "      <td>1</td>\n",
       "    </tr>\n",
       "    <tr>\n",
       "      <th>1604</th>\n",
       "      <td>-0.136352</td>\n",
       "      <td>1</td>\n",
       "      <td>-0.882802</td>\n",
       "      <td>0</td>\n",
       "      <td>-0.765291</td>\n",
       "      <td>0</td>\n",
       "      <td>-1.495970</td>\n",
       "      <td>1.365137</td>\n",
       "      <td>0.400595</td>\n",
       "      <td>5.0</td>\n",
       "      <td>1.179612</td>\n",
       "      <td>0.602711</td>\n",
       "      <td>0.418002</td>\n",
       "      <td>-1.454667</td>\n",
       "      <td>-1.021309</td>\n",
       "      <td>0.278458</td>\n",
       "      <td>1.285551</td>\n",
       "      <td>0</td>\n",
       "      <td>0</td>\n",
       "      <td>1</td>\n",
       "    </tr>\n",
       "    <tr>\n",
       "      <th>1182</th>\n",
       "      <td>-1.202281</td>\n",
       "      <td>0</td>\n",
       "      <td>0.475742</td>\n",
       "      <td>0</td>\n",
       "      <td>1.548019</td>\n",
       "      <td>1</td>\n",
       "      <td>-1.055561</td>\n",
       "      <td>-1.403788</td>\n",
       "      <td>-1.672757</td>\n",
       "      <td>8.0</td>\n",
       "      <td>0.847742</td>\n",
       "      <td>-0.166365</td>\n",
       "      <td>0.401750</td>\n",
       "      <td>-1.524540</td>\n",
       "      <td>1.116953</td>\n",
       "      <td>1.201582</td>\n",
       "      <td>-1.080574</td>\n",
       "      <td>1</td>\n",
       "      <td>1</td>\n",
       "      <td>1</td>\n",
       "    </tr>\n",
       "  </tbody>\n",
       "</table>\n",
       "<p>1791 rows × 20 columns</p>\n",
       "</div>"
      ],
      "text/plain": [
       "      battery_power  blue  clock_speed  dual_sim        fc  four_g  \\\n",
       "1898      -1.258979     1    -0.759298         1 -0.302629       1   \n",
       "280        1.120083     1     1.587277         0 -0.302629       1   \n",
       "915        0.058690     0    -1.129809         1 -0.071298       1   \n",
       "846        0.566707     0     1.093262         1  0.854026       0   \n",
       "1629      -0.016152     0    -0.388786         0  1.779350       0   \n",
       "...             ...   ...          ...       ...       ...     ...   \n",
       "1259       1.262963     0     0.105230         1  0.160033       0   \n",
       "784        1.480685     1    -1.006305         0  0.160033       0   \n",
       "218        1.467077     0    -1.253313         0 -0.996622       1   \n",
       "1604      -0.136352     1    -0.882802         0 -0.765291       0   \n",
       "1182      -1.202281     0     0.475742         0  1.548019       1   \n",
       "\n",
       "      int_memory     m_dep  mobile_wt  n_cores        pc  px_height  px_width  \\\n",
       "1898    1.696994  1.711253   0.485801      5.0 -0.147868  -1.087911  1.135426   \n",
       "280     0.210614  1.711253  -0.593478      6.0  1.677418  -0.643955 -1.676224   \n",
       "915     0.926278 -0.019325  -1.417138      1.0 -0.811609  -0.827815 -1.304743   \n",
       "846    -0.009590  0.326790   1.707090      1.0  1.013677  -1.058762 -1.014523   \n",
       "1629   -0.119692  1.365137  -0.252653      6.0  0.681807  -0.043044 -1.132933   \n",
       "...          ...       ...        ...      ...       ...        ...       ...   \n",
       "1259   -1.385867 -1.403788  -1.104715      4.0 -0.645674   0.051129 -1.047028   \n",
       "784     0.816176 -0.365441  -0.849097      4.0  0.018067   1.692422  0.731440   \n",
       "218    -0.449999 -0.365441  -0.792293      3.0 -1.475349   0.369522  1.646213   \n",
       "1604   -1.495970  1.365137   0.400595      5.0  1.179612   0.602711  0.418002   \n",
       "1182   -1.055561 -1.403788  -1.672757      8.0  0.847742  -0.166365  0.401750   \n",
       "\n",
       "           ram      sc_h      sc_w  talk_time  three_g  touch_screen  wifi  \n",
       "1898  1.499310  1.116953 -0.183104   0.193493        1             1     1  \n",
       "280   1.333821  1.116953  2.355487  -0.352536        1             0     0  \n",
       "915  -0.558269  0.879368  1.201582  -0.534545        1             0     1  \n",
       "846  -1.240450 -1.258893  0.047677  -0.534545        0             0     0  \n",
       "1629 -0.431394 -1.021309 -0.413885   0.739522        1             1     1  \n",
       "...        ...       ...       ...        ...      ...           ...   ...  \n",
       "1259 -0.444265 -0.783724 -0.413885  -1.444593        0             1     1  \n",
       "784   0.043008  1.116953  1.893925  -1.444593        1             1     1  \n",
       "218  -0.869939  0.879368  0.278458   1.649570        1             0     1  \n",
       "1604 -1.454667 -1.021309  0.278458   1.285551        0             0     1  \n",
       "1182 -1.524540  1.116953  1.201582  -1.080574        1             1     1  \n",
       "\n",
       "[1791 rows x 20 columns]"
      ]
     },
     "execution_count": 29,
     "metadata": {},
     "output_type": "execute_result"
    }
   ],
   "source": [
    "X_train_scaled"
   ]
  },
  {
   "cell_type": "markdown",
   "metadata": {},
   "source": [
    "## Base Models\n",
    "\n",
    "* Before Applying feature Selection"
   ]
  },
  {
   "cell_type": "code",
   "execution_count": 30,
   "metadata": {},
   "outputs": [],
   "source": [
    "def evaluating (y_true,y_pred,title):\n",
    "    precision_per_class = precision_score(y_true, y_pred, average='macro')\n",
    "    recall_per_class = recall_score(y_true, y_pred, average='macro')\n",
    "    f1_per_class = f1_score(y_true, y_pred, average='macro')\n",
    "    accuracy_per_class= accuracy_score(y_true, y_pred)\n",
    "\n",
    "    print(f\"Macro-Averaged Precision for {title} : {precision_per_class:.5f}\")\n",
    "    print(f\"Macro-Averaged Recall for {title}    : {recall_per_class:.5f}\")\n",
    "    print(f\"Macro-Averaged F1-Score for {title}  : {f1_per_class:.5f}\")\n",
    "    print(f\"Accuracy for {title}                 : {accuracy_per_class:.5f}\")"
   ]
  },
  {
   "cell_type": "markdown",
   "metadata": {},
   "source": [
    "## Function conf_matrix\n",
    "* To preview the confusion matrix and classification report"
   ]
  },
  {
   "cell_type": "code",
   "execution_count": 31,
   "metadata": {},
   "outputs": [],
   "source": [
    "def conf_matrix(x, y, title, show_report=False):\n",
    "    cm = confusion_matrix(x, y)\n",
    "    plt.figure(figsize=(6, 4))\n",
    "    \n",
    "    sns.heatmap(cm, annot=True, fmt='d', cmap=\"Oranges\", cbar=False)\n",
    "    plt.title(f'Confusion Matrix - {title} Data')\n",
    "    plt.xlabel('Predicted Class')\n",
    "    plt.ylabel('True Class')\n",
    "    plt.show()\n",
    "    if not show_report:\n",
    "        print(\"Accuracy: \", accuracy_score(x, y))\n",
    "\n",
    "    if show_report:\n",
    "        report = classification_report(x, y)\n",
    "        print(\"Classification Report:\")\n",
    "        print(report)\n",
    "        plt.show()\n",
    "    return f1_score(x, y, average='macro')"
   ]
  },
  {
   "cell_type": "markdown",
   "metadata": {},
   "source": [
    "## Model 1: Gaussian Naive Bayes "
   ]
  },
  {
   "cell_type": "markdown",
   "metadata": {},
   "source": [
    "### Validation Data"
   ]
  },
  {
   "cell_type": "code",
   "execution_count": 32,
   "metadata": {},
   "outputs": [
    {
     "name": "stdout",
     "output_type": "stream",
     "text": [
      "Macro-Averaged Precision for Gaussian Naive Bayes Validation : 0.83243\n",
      "Macro-Averaged Recall for Gaussian Naive Bayes Validation    : 0.82500\n",
      "Macro-Averaged F1-Score for Gaussian Naive Bayes Validation  : 0.82659\n",
      "Accuracy for Gaussian Naive Bayes Validation                 : 0.82500\n"
     ]
    }
   ],
   "source": [
    "NB_model=GaussianNB()\n",
    "NB_model.fit(X_train_scaled, Y_train)\n",
    "Gaussian_validation_predictions = NB_model.predict(X_val_scaled)\n",
    "evaluating(Y_val,Gaussian_validation_predictions,\"Gaussian Naive Bayes Validation\")\n"
   ]
  },
  {
   "cell_type": "code",
   "execution_count": 33,
   "metadata": {},
   "outputs": [
    {
     "data": {
      "image/png": "[encoded data removed]",
      "text/plain": [
       "<Figure size 600x400 with 1 Axes>"
      ]
     },
     "metadata": {},
     "output_type": "display_data"
    },
    {
     "name": "stdout",
     "output_type": "stream",
     "text": [
      "Classification Report:\n",
      "              precision    recall  f1-score   support\n",
      "\n",
      "           0       0.88      0.88      0.88        50\n",
      "           1       0.71      0.68      0.69        50\n",
      "           2       0.74      0.86      0.80        50\n",
      "           3       1.00      0.88      0.94        50\n",
      "\n",
      "    accuracy                           0.82       200\n",
      "   macro avg       0.83      0.82      0.83       200\n",
      "weighted avg       0.83      0.82      0.83       200\n",
      "\n"
     ]
    }
   ],
   "source": [
    "nb_baseline_validation= conf_matrix(Y_val,Gaussian_validation_predictions,\"Gaussian Naive Bayes Classifiers for validation\",True)"
   ]
  },
  {
   "cell_type": "markdown",
   "metadata": {},
   "source": [
    "### Train Data"
   ]
  },
  {
   "cell_type": "code",
   "execution_count": 34,
   "metadata": {},
   "outputs": [
    {
     "name": "stdout",
     "output_type": "stream",
     "text": [
      "Macro-Averaged Precision for Gaussian Naive Bayes Train : 0.81937\n",
      "Macro-Averaged Recall for Gaussian Naive Bayes Train    : 0.81849\n",
      "Macro-Averaged F1-Score for Gaussian Naive Bayes Train  : 0.81890\n",
      "Accuracy for Gaussian Naive Bayes Train                 : 0.81854\n"
     ]
    }
   ],
   "source": [
    "Gaussian_Train_predictions = NB_model.predict(X_train_scaled)\n",
    "evaluating(Y_train,Gaussian_Train_predictions,\"Gaussian Naive Bayes Train\")"
   ]
  },
  {
   "cell_type": "code",
   "execution_count": 35,
   "metadata": {},
   "outputs": [
    {
     "data": {
      "image/png": "[encoded data removed]",
      "text/plain": [
       "<Figure size 600x400 with 1 Axes>"
      ]
     },
     "metadata": {},
     "output_type": "display_data"
    },
    {
     "name": "stdout",
     "output_type": "stream",
     "text": [
      "Classification Report:\n",
      "              precision    recall  f1-score   support\n",
      "\n",
      "           0       0.92      0.91      0.92       449\n",
      "           1       0.74      0.74      0.74       446\n",
      "           2       0.72      0.73      0.72       449\n",
      "           3       0.90      0.89      0.90       447\n",
      "\n",
      "    accuracy                           0.82      1791\n",
      "   macro avg       0.82      0.82      0.82      1791\n",
      "weighted avg       0.82      0.82      0.82      1791\n",
      "\n"
     ]
    }
   ],
   "source": [
    "nb_baseline_Train= conf_matrix(Y_train,Gaussian_Train_predictions,\"Gaussian Naive Bayes Classifiers for Train\",True)"
   ]
  },
  {
   "cell_type": "markdown",
   "metadata": {},
   "source": [
    "## Model 2: Decision Tree Classifier"
   ]
  },
  {
   "cell_type": "markdown",
   "metadata": {},
   "source": [
    "### Validation Data"
   ]
  },
  {
   "cell_type": "code",
   "execution_count": 36,
   "metadata": {},
   "outputs": [
    {
     "name": "stdout",
     "output_type": "stream",
     "text": [
      "Macro-Averaged Precision for Decision Tree Validation : 0.88499\n",
      "Macro-Averaged Recall for Decision Tree Validation    : 0.88500\n",
      "Macro-Averaged F1-Score for Decision Tree Validation  : 0.88462\n",
      "Accuracy for Decision Tree Validation                 : 0.88500\n"
     ]
    }
   ],
   "source": [
    "dt = DecisionTreeClassifier(criterion='entropy',random_state=42)\n",
    "dt.fit(X_train_scaled, Y_train)\n",
    "y_validation_pred_DT = dt.predict(X_val_scaled)\n",
    "evaluating(Y_val,y_validation_pred_DT,\"Decision Tree Validation\")"
   ]
  },
  {
   "cell_type": "code",
   "execution_count": 37,
   "metadata": {},
   "outputs": [
    {
     "data": {
      "image/png": "[encoded data removed]",
      "text/plain": [
       "<Figure size 600x400 with 1 Axes>"
      ]
     },
     "metadata": {},
     "output_type": "display_data"
    },
    {
     "name": "stdout",
     "output_type": "stream",
     "text": [
      "Classification Report:\n",
      "              precision    recall  f1-score   support\n",
      "\n",
      "           0       0.92      0.92      0.92        50\n",
      "           1       0.83      0.78      0.80        50\n",
      "           2       0.83      0.88      0.85        50\n",
      "           3       0.96      0.96      0.96        50\n",
      "\n",
      "    accuracy                           0.89       200\n",
      "   macro avg       0.88      0.89      0.88       200\n",
      "weighted avg       0.88      0.89      0.88       200\n",
      "\n"
     ]
    }
   ],
   "source": [
    "DT_baseline_validation= conf_matrix(Y_val,y_validation_pred_DT,\"DecisionTree Classifiers for validation\",True)"
   ]
  },
  {
   "cell_type": "markdown",
   "metadata": {},
   "source": [
    "### Train Data"
   ]
  },
  {
   "cell_type": "code",
   "execution_count": 38,
   "metadata": {},
   "outputs": [
    {
     "name": "stdout",
     "output_type": "stream",
     "text": [
      "Macro-Averaged Precision for Decision Tree Train : 1.00000\n",
      "Macro-Averaged Recall for Decision Tree Train    : 1.00000\n",
      "Macro-Averaged F1-Score for Decision Tree Train  : 1.00000\n",
      "Accuracy for Decision Tree Train                 : 1.00000\n"
     ]
    }
   ],
   "source": [
    "y_Train_pred_DT = dt.predict(X_train_scaled)\n",
    "evaluating(Y_train,y_Train_pred_DT,\"Decision Tree Train\")"
   ]
  },
  {
   "cell_type": "code",
   "execution_count": 39,
   "metadata": {},
   "outputs": [
    {
     "data": {
      "image/png": "[encoded data removed]",
      "text/plain": [
       "<Figure size 600x400 with 1 Axes>"
      ]
     },
     "metadata": {},
     "output_type": "display_data"
    },
    {
     "name": "stdout",
     "output_type": "stream",
     "text": [
      "Classification Report:\n",
      "              precision    recall  f1-score   support\n",
      "\n",
      "           0       1.00      1.00      1.00       449\n",
      "           1       1.00      1.00      1.00       446\n",
      "           2       1.00      1.00      1.00       449\n",
      "           3       1.00      1.00      1.00       447\n",
      "\n",
      "    accuracy                           1.00      1791\n",
      "   macro avg       1.00      1.00      1.00      1791\n",
      "weighted avg       1.00      1.00      1.00      1791\n",
      "\n"
     ]
    }
   ],
   "source": [
    "DT_baseline_tain= conf_matrix(Y_train,y_Train_pred_DT,\"Decision Tree for train\",True)"
   ]
  },
  {
   "cell_type": "markdown",
   "metadata": {},
   "source": [
    "## Model 3: Random Forest Classifier"
   ]
  },
  {
   "cell_type": "markdown",
   "metadata": {},
   "source": [
    "### Validation Data"
   ]
  },
  {
   "cell_type": "code",
   "execution_count": 40,
   "metadata": {},
   "outputs": [
    {
     "name": "stdout",
     "output_type": "stream",
     "text": [
      "Macro-Averaged Precision for Random Forest Validation : 0.81034\n",
      "Macro-Averaged Recall for Random Forest Validation    : 0.81500\n",
      "Macro-Averaged F1-Score for Random Forest Validation  : 0.81043\n",
      "Accuracy for Random Forest Validation                 : 0.81500\n"
     ]
    }
   ],
   "source": [
    "rf_model = RandomForestClassifier(min_samples_leaf= 37\n",
    "                              ,max_depth=4, n_estimators=100, random_state=42)\n",
    "# rf_model = RandomForestClassifier(random_state=42)\n",
    "rf_model.fit(X_train_scaled, Y_train)\n",
    "y_pred_Validation_rf = rf_model.predict(X_val_scaled)\n",
    "evaluating(Y_val,y_pred_Validation_rf,\"Random Forest Validation\")"
   ]
  },
  {
   "cell_type": "code",
   "execution_count": 41,
   "metadata": {},
   "outputs": [
    {
     "data": {
      "image/png": "[encoded data removed]",
      "text/plain": [
       "<Figure size 600x400 with 1 Axes>"
      ]
     },
     "metadata": {},
     "output_type": "display_data"
    },
    {
     "name": "stdout",
     "output_type": "stream",
     "text": [
      "Classification Report:\n",
      "              precision    recall  f1-score   support\n",
      "\n",
      "           0       0.85      0.94      0.90        50\n",
      "           1       0.72      0.68      0.70        50\n",
      "           2       0.79      0.68      0.73        50\n",
      "           3       0.87      0.96      0.91        50\n",
      "\n",
      "    accuracy                           0.81       200\n",
      "   macro avg       0.81      0.82      0.81       200\n",
      "weighted avg       0.81      0.81      0.81       200\n",
      "\n"
     ]
    }
   ],
   "source": [
    "RF_baseline_validation= conf_matrix(Y_val,y_pred_Validation_rf,\"Random Forest Classifiers for validation\",True)"
   ]
  },
  {
   "cell_type": "markdown",
   "metadata": {},
   "source": [
    "### Train Data"
   ]
  },
  {
   "cell_type": "code",
   "execution_count": 42,
   "metadata": {},
   "outputs": [
    {
     "name": "stdout",
     "output_type": "stream",
     "text": [
      "Macro-Averaged Precision for Random Fores Train : 0.86196\n",
      "Macro-Averaged Recall for Random Fores Train    : 0.86212\n",
      "Macro-Averaged F1-Score for Random Fores Train  : 0.86020\n",
      "Accuracy for Random Fores Train                 : 0.86209\n"
     ]
    }
   ],
   "source": [
    "y_pred_Train_rf = rf_model.predict(X_train_scaled)\n",
    "evaluating(Y_train,y_pred_Train_rf,\"Random Fores Train\")"
   ]
  },
  {
   "cell_type": "code",
   "execution_count": 43,
   "metadata": {},
   "outputs": [
    {
     "data": {
      "image/png": "[encoded data removed]",
      "text/plain": [
       "<Figure size 600x400 with 1 Axes>"
      ]
     },
     "metadata": {},
     "output_type": "display_data"
    },
    {
     "name": "stdout",
     "output_type": "stream",
     "text": [
      "Classification Report:\n",
      "              precision    recall  f1-score   support\n",
      "\n",
      "           0       0.91      0.96      0.93       449\n",
      "           1       0.76      0.81      0.79       446\n",
      "           2       0.85      0.72      0.78       449\n",
      "           3       0.93      0.96      0.94       447\n",
      "\n",
      "    accuracy                           0.86      1791\n",
      "   macro avg       0.86      0.86      0.86      1791\n",
      "weighted avg       0.86      0.86      0.86      1791\n",
      "\n"
     ]
    }
   ],
   "source": [
    "RF_baseline_Train= conf_matrix(Y_train,y_pred_Train_rf,\"Random Forest Classifiers for Train\",True)"
   ]
  },
  {
   "cell_type": "markdown",
   "metadata": {},
   "source": [
    "## Model 4: SVM"
   ]
  },
  {
   "cell_type": "markdown",
   "metadata": {},
   "source": [
    "### Validation Data"
   ]
  },
  {
   "cell_type": "code",
   "execution_count": 44,
   "metadata": {},
   "outputs": [
    {
     "name": "stdout",
     "output_type": "stream",
     "text": [
      "Macro-Averaged Precision for SVM Validation : 0.90524\n",
      "Macro-Averaged Recall for SVM Validation    : 0.90500\n",
      "Macro-Averaged F1-Score for SVM Validation  : 0.90480\n",
      "Accuracy for SVM Validation                 : 0.90500\n"
     ]
    }
   ],
   "source": [
    "svm = SVC(kernel='rbf',random_state=42)\n",
    "svm.fit(X_train_scaled, Y_train)\n",
    "\n",
    "y_pred_validation_svm = svm.predict(X_val_scaled)\n",
    "evaluating(Y_val,y_pred_validation_svm,\"SVM Validation\")"
   ]
  },
  {
   "cell_type": "code",
   "execution_count": 45,
   "metadata": {},
   "outputs": [
    {
     "data": {
      "image/png": "[encoded data removed]",
      "text/plain": [
       "<Figure size 600x400 with 1 Axes>"
      ]
     },
     "metadata": {},
     "output_type": "display_data"
    },
    {
     "name": "stdout",
     "output_type": "stream",
     "text": [
      "Classification Report:\n",
      "              precision    recall  f1-score   support\n",
      "\n",
      "           0       0.94      0.96      0.95        50\n",
      "           1       0.89      0.84      0.87        50\n",
      "           2       0.85      0.88      0.86        50\n",
      "           3       0.94      0.94      0.94        50\n",
      "\n",
      "    accuracy                           0.91       200\n",
      "   macro avg       0.91      0.90      0.90       200\n",
      "weighted avg       0.91      0.91      0.90       200\n",
      "\n"
     ]
    }
   ],
   "source": [
    "SVM_baseline_validation= conf_matrix(Y_val,y_pred_validation_svm,\"SVM for validation\",True)"
   ]
  },
  {
   "cell_type": "markdown",
   "metadata": {},
   "source": [
    "### Train Data"
   ]
  },
  {
   "cell_type": "code",
   "execution_count": 46,
   "metadata": {},
   "outputs": [
    {
     "name": "stdout",
     "output_type": "stream",
     "text": [
      "Macro-Averaged Precision for SVM Train : 0.95835\n",
      "Macro-Averaged Recall for SVM Train    : 0.95811\n",
      "Macro-Averaged F1-Score for SVM Train  : 0.95819\n",
      "Accuracy for SVM Train                 : 0.95812\n"
     ]
    }
   ],
   "source": [
    "y_pred_TRain_svm = svm.predict(X_train_scaled)\n",
    "evaluating(Y_train,y_pred_TRain_svm,\"SVM Train\")"
   ]
  },
  {
   "cell_type": "code",
   "execution_count": 47,
   "metadata": {},
   "outputs": [
    {
     "data": {
      "image/png": "[encoded data removed]",
      "text/plain": [
       "<Figure size 600x400 with 1 Axes>"
      ]
     },
     "metadata": {},
     "output_type": "display_data"
    },
    {
     "name": "stdout",
     "output_type": "stream",
     "text": [
      "Classification Report:\n",
      "              precision    recall  f1-score   support\n",
      "\n",
      "           0       0.97      0.98      0.97       449\n",
      "           1       0.94      0.95      0.94       446\n",
      "           2       0.94      0.95      0.94       449\n",
      "           3       0.99      0.96      0.98       447\n",
      "\n",
      "    accuracy                           0.96      1791\n",
      "   macro avg       0.96      0.96      0.96      1791\n",
      "weighted avg       0.96      0.96      0.96      1791\n",
      "\n"
     ]
    }
   ],
   "source": [
    "SVM_baseline_Train= conf_matrix(Y_train,y_pred_TRain_svm,\"SVM for Train\",True)"
   ]
  },
  {
   "cell_type": "markdown",
   "metadata": {},
   "source": [
    "## Conclusion"
   ]
  },
  {
   "cell_type": "code",
   "execution_count": 48,
   "metadata": {},
   "outputs": [
    {
     "data": {
      "image/png": "[encoded data removed]",
      "text/plain": [
       "<Figure size 1500x800 with 1 Axes>"
      ]
     },
     "metadata": {},
     "output_type": "display_data"
    }
   ],
   "source": [
    "import matplotlib.pyplot as plt\n",
    "\n",
    "# Sample data\n",
    "models = [' Gaussian Naive Bayes ', 'Decision Tree', 'Random Forest', 'SVM']\n",
    "train_accuracy = [nb_baseline_Train, DT_baseline_tain, RF_baseline_Train, SVM_baseline_Train]\n",
    "val_accuracy = [nb_baseline_validation, DT_baseline_validation, RF_baseline_validation, SVM_baseline_validation]\n",
    "\n",
    "# Set the width of the bars\n",
    "bar_width = 0.35\n",
    "\n",
    "# Set the position of the bars on the x-axis\n",
    "r1 = range(len(models))\n",
    "r2 = [x + bar_width for x in r1]\n",
    "\n",
    "# Set the figure size\n",
    "plt.figure(figsize=(15, 8))  # Width: 10 inches, Height: 6 inches\n",
    "\n",
    "# Create the bar plot\n",
    "plt.bar(r1, train_accuracy, color='skyblue', width=bar_width, edgecolor='grey', label='Train F1-Score')\n",
    "plt.bar(r2, val_accuracy, color='lightgreen', width=bar_width, edgecolor='grey', label='Validation F1-Score')\n",
    "\n",
    "# Add accuracy percentages on top of each bar\n",
    "for i in r1:\n",
    "    plt.text(i, train_accuracy[i] + 0.02, f'{train_accuracy[i]*100:.1f}%', ha='center', va='bottom', color='black', fontweight='bold')\n",
    "    plt.text(i + bar_width, val_accuracy[i] + 0.02, f'{val_accuracy[i]*100:.1f}%', ha='center', va='bottom', color='black', fontweight='bold')\n",
    "\n",
    "# Add labels and title\n",
    "plt.xlabel('Models', fontweight='bold')\n",
    "plt.ylabel('F1-Score', fontweight='bold')\n",
    "plt.xticks([r + bar_width/2 for r in range(len(models))], models)\n",
    "plt.title('Comparison of Train and Validation F1-score for Different Models')\n",
    "\n",
    "# Shift the legend to the upper right\n",
    "plt.legend(loc='upper right')\n",
    "\n",
    "# Show the plot\n",
    "plt.show()\n"
   ]
  },
  {
   "cell_type": "markdown",
   "metadata": {},
   "source": [
    "### As we can see, all models are overfitting because the F1-Score of the training set is higher than the F1-Score of the validation set, except for Gaussian Naive Bayes, which is a robust model against noise."
   ]
  },
  {
   "cell_type": "markdown",
   "metadata": {},
   "source": [
    "# Feature Filtering/Selection"
   ]
  },
  {
   "cell_type": "markdown",
   "metadata": {},
   "source": [
    "## Try Naive Bayes Model with the feature Selection method"
   ]
  },
  {
   "cell_type": "markdown",
   "metadata": {},
   "source": [
    "## Mutual Information (mutual info)"
   ]
  },
  {
   "cell_type": "code",
   "execution_count": 49,
   "metadata": {},
   "outputs": [],
   "source": [
    "def select_feature(X_train, y_train,X_validation , FSM):\n",
    "    fs = FSM\n",
    "    fs.fit(X_train, y_train)\n",
    "    X_train_new = fs.transform(X_train)\n",
    "    # X_test_new = fs.transform(X_test)\n",
    "    X_validation_new = fs.transform(X_validation)\n",
    "    \n",
    "    feature_indices = fs.get_support(indices=True)\n",
    "   \n",
    "\n",
    "    return X_train_new,X_validation_new,feature_indices"
   ]
  },
  {
   "cell_type": "code",
   "execution_count": 50,
   "metadata": {},
   "outputs": [],
   "source": [
    "import numpy as np\n",
    "np.random.seed(42) \n",
    "\n",
    "acc_dict_NB_validation = {}\n",
    "# acc_dict_VAR_NB = {}\n",
    "feature_indices_dict={}\n",
    "for k in range(1, len(X_train.columns) + 1):\n",
    "\n",
    "    # Filter method: Information Gain\n",
    "    fsm = SelectKBest(score_func=mutual_info_classif, k=k)\n",
    "    \n",
    "    X_train_new_SBest,X_validation_new_SBest,feature_indices = select_feature(X_train, Y_train, X_val, fsm)\n",
    "    feature_indices_dict[k]=feature_indices\n",
    "    \n",
    "\n",
    "     # Naive Bayes classifier\n",
    "    nb_classifier = GaussianNB()\n",
    "    \n",
    "    nb_classifier.fit(X_train_new_SBest, Y_train)\n",
    "    y_validation_pred_DT = nb_classifier.predict(X_validation_new_SBest)\n",
    "    \n",
    "    acc_dict_NB_validation[k]=accuracy_score(Y_val,y_validation_pred_DT)\n",
    "    "
   ]
  },
  {
   "cell_type": "code",
   "execution_count": 51,
   "metadata": {},
   "outputs": [],
   "source": [
    "def Draw_plots(acc_list,baseline_accuracy, Title=None):\n",
    "    fig = plt.figure()  # Create a new figure\n",
    "    plt.plot(*zip(*sorted(acc_list.items())))\n",
    "    plt.axhline(y=baseline_accuracy, color='r', linestyle='--', label=f'Baseline Accuracy {baseline_accuracy:.3f}')\n",
    "    plt.legend()\n",
    "    # Title = \"Feature Selection with Information Gain Method\"\n",
    "    plt.title(Title, fontsize=16)\n",
    "    plt.xlabel(\"Number of Features\", fontsize=16)\n",
    "    plt.ylabel(\"Accuracy\", fontsize=16)\n",
    "    plt.show()\n",
    "    print(\"Maximum accuracy:\", max(acc_list.values()))\n",
    "    print(\"Best number of features:\", max(acc_list, key=acc_list.get))\n",
    "    plt.show()\n",
    "    return   max(acc_list, key=acc_list.get)\n",
    "    # plt.close(fig)"
   ]
  },
  {
   "cell_type": "code",
   "execution_count": 52,
   "metadata": {},
   "outputs": [
    {
     "data": {
      "image/png": "[encoded data removed]",
      "text/plain": [
       "<Figure size 640x480 with 1 Axes>"
      ]
     },
     "metadata": {},
     "output_type": "display_data"
    },
    {
     "name": "stdout",
     "output_type": "stream",
     "text": [
      "Maximum accuracy: 0.835\n",
      "Best number of features: 9\n"
     ]
    }
   ],
   "source": [
    "Max_NB_val=Draw_plots(acc_dict_NB_validation,nb_baseline_validation,\"Feature Selection with Mutual Information Method With Gaussian Naive Bayes  for validation\")"
   ]
  },
  {
   "cell_type": "markdown",
   "metadata": {},
   "source": [
    "## Feature selection wrapper based approch"
   ]
  },
  {
   "cell_type": "code",
   "execution_count": 53,
   "metadata": {},
   "outputs": [],
   "source": [
    "def SequentialFeature(model, X_train, y_train, n_features_to_select,forward=\"forward\"):\n",
    "    sfs = SequentialFeatureSelector(model,\n",
    "                                    n_features_to_select=n_features_to_select,\n",
    "                                    direction=forward,\n",
    "#                                     floating=False,\n",
    "#                                     verbose=0,\n",
    "                                    scoring='accuracy' )\n",
    "    sfs.fit(X_train, y_train)\n",
    "    selected_features_indices = sfs.get_support(indices=True)\n",
    "#     selected_feature_names = list(sfs.k_feature_names_)\n",
    "    return selected_features_indices"
   ]
  },
  {
   "cell_type": "code",
   "execution_count": 54,
   "metadata": {},
   "outputs": [],
   "source": [
    "def wrapper_feature_selection(Model,x___train,y_train,X____test,y_test):\n",
    "    \n",
    "    selected_feature_names_dict_A = {}  \n",
    "    accuracies_model_A_test = {}\n",
    "    accuracies_model_A_val = {}\n",
    "\n",
    "    \n",
    "    \n",
    "    for k in range(1, 20):\n",
    "        selected_features_indices_A = SequentialFeature(Model, x___train, y_train, k,forward=\"forward\")\n",
    "        X_train_selected_A = x___train.iloc[:, selected_features_indices_A]\n",
    "        X_test_selected_A = X____test.iloc[:, selected_features_indices_A]\n",
    "#         X_validation_selected_A = X_validation.iloc[:, selected_features_indices_A]\n",
    "    \n",
    "        selected_feature_names_dict_A[k]=selected_features_indices_A\n",
    "        \n",
    "        Model.fit(X_train_selected_A, y_train)\n",
    "        predictions_test_A = Model.predict(X_test_selected_A)\n",
    "#         predictions_validation_A= Model.predict(X_validation_selected_A)\n",
    "        \n",
    "        accuracies_model_A_test[k]=accuracy_score(y_test, predictions_test_A)\n",
    "#         accuracies_model_A_val[k]=accuracy_score(y_validation, predictions_validation_A\n",
    "      \n",
    "    \n",
    "\n",
    "    return accuracies_model_A_test,selected_feature_names_dict_A"
   ]
  },
  {
   "cell_type": "code",
   "execution_count": 55,
   "metadata": {},
   "outputs": [],
   "source": [
    "accuracies_model_NB,selected_feature_names_dict_NB=wrapper_feature_selection(GaussianNB(),X_train,Y_train,X_val,Y_val)"
   ]
  },
  {
   "cell_type": "code",
   "execution_count": 56,
   "metadata": {},
   "outputs": [
    {
     "data": {
      "image/png": "[encoded data removed]",
      "text/plain": [
       "<Figure size 640x480 with 1 Axes>"
      ]
     },
     "metadata": {},
     "output_type": "display_data"
    },
    {
     "name": "stdout",
     "output_type": "stream",
     "text": [
      "Maximum accuracy: 0.835\n",
      "Best number of features: 16\n"
     ]
    },
    {
     "data": {
      "text/plain": [
       "16"
      ]
     },
     "execution_count": 56,
     "metadata": {},
     "output_type": "execute_result"
    }
   ],
   "source": [
    "Draw_plots(accuracies_model_NB,nb_baseline_validation,\"Forward Feature Elimination With Gaussian Naive Bayes\")"
   ]
  },
  {
   "cell_type": "markdown",
   "metadata": {},
   "source": [
    "## Now, the best performance is using Feature selection filter based approach with Gaussian Naive Bayes"
   ]
  },
  {
   "cell_type": "markdown",
   "metadata": {},
   "source": [
    "## Gaussian Naive Bayes Featuer indices with test set"
   ]
  },
  {
   "cell_type": "code",
   "execution_count": 57,
   "metadata": {},
   "outputs": [
    {
     "data": {
      "text/plain": [
       "9"
      ]
     },
     "execution_count": 57,
     "metadata": {},
     "output_type": "execute_result"
    }
   ],
   "source": [
    "Max_NB_val"
   ]
  },
  {
   "cell_type": "markdown",
   "metadata": {},
   "source": [
    "## Function \" find_list_with_length \"\n",
    "* this is user defined function whice use to select the best feature from data after get the best indices from Feature selection •\n"
   ]
  },
  {
   "cell_type": "code",
   "execution_count": 58,
   "metadata": {},
   "outputs": [],
   "source": [
    "def find_list_with_length(feature_indices_dict,desired_length,Data):\n",
    "   \n",
    "    new_features = feature_indices_dict.get(desired_length, None)\n",
    "    print(new_features)\n",
    "    if new_features is not None:\n",
    "        new_X_train = Data.iloc[:, new_features]\n",
    "        return new_X_train\n",
    "    else:\n",
    "        # Handle the case when the desired_length is not found in the dictionary\n",
    "        print(f\"No list with length {desired_length} found in the dictionary.\")\n",
    "        return None\n",
    "    "
   ]
  },
  {
   "cell_type": "markdown",
   "metadata": {},
   "source": [
    "## Run find_list_with_length to get New X-train and New X_val"
   ]
  },
  {
   "cell_type": "code",
   "execution_count": 59,
   "metadata": {},
   "outputs": [
    {
     "name": "stdout",
     "output_type": "stream",
     "text": [
      "[ 0  1  4  5  6 11 12 13 16]\n",
      "[ 0  1  4  5  6 11 12 13 16]\n"
     ]
    },
    {
     "data": {
      "text/html": [
       "<div>\n",
       "<style scoped>\n",
       "    .dataframe tbody tr th:only-of-type {\n",
       "        vertical-align: middle;\n",
       "    }\n",
       "\n",
       "    .dataframe tbody tr th {\n",
       "        vertical-align: top;\n",
       "    }\n",
       "\n",
       "    .dataframe thead th {\n",
       "        text-align: right;\n",
       "    }\n",
       "</style>\n",
       "<table border=\"1\" class=\"dataframe\">\n",
       "  <thead>\n",
       "    <tr style=\"text-align: right;\">\n",
       "      <th></th>\n",
       "      <th>battery_power</th>\n",
       "      <th>blue</th>\n",
       "      <th>fc</th>\n",
       "      <th>four_g</th>\n",
       "      <th>int_memory</th>\n",
       "      <th>px_height</th>\n",
       "      <th>px_width</th>\n",
       "      <th>ram</th>\n",
       "      <th>talk_time</th>\n",
       "    </tr>\n",
       "  </thead>\n",
       "  <tbody>\n",
       "    <tr>\n",
       "      <th>1667</th>\n",
       "      <td>1967</td>\n",
       "      <td>0</td>\n",
       "      <td>0.0</td>\n",
       "      <td>1</td>\n",
       "      <td>46.0</td>\n",
       "      <td>518.0</td>\n",
       "      <td>1374.0</td>\n",
       "      <td>1567.0</td>\n",
       "      <td>7</td>\n",
       "    </tr>\n",
       "    <tr>\n",
       "      <th>1618</th>\n",
       "      <td>502</td>\n",
       "      <td>0</td>\n",
       "      <td>7.0</td>\n",
       "      <td>0</td>\n",
       "      <td>52.0</td>\n",
       "      <td>281.0</td>\n",
       "      <td>1159.0</td>\n",
       "      <td>2666.0</td>\n",
       "      <td>20</td>\n",
       "    </tr>\n",
       "    <tr>\n",
       "      <th>557</th>\n",
       "      <td>1519</td>\n",
       "      <td>0</td>\n",
       "      <td>0.0</td>\n",
       "      <td>0</td>\n",
       "      <td>32.0</td>\n",
       "      <td>168.0</td>\n",
       "      <td>1239.0</td>\n",
       "      <td>2912.0</td>\n",
       "      <td>15</td>\n",
       "    </tr>\n",
       "    <tr>\n",
       "      <th>631</th>\n",
       "      <td>1063</td>\n",
       "      <td>1</td>\n",
       "      <td>0.0</td>\n",
       "      <td>1</td>\n",
       "      <td>26.0</td>\n",
       "      <td>1208.0</td>\n",
       "      <td>1232.0</td>\n",
       "      <td>3809.0</td>\n",
       "      <td>5</td>\n",
       "    </tr>\n",
       "    <tr>\n",
       "      <th>1529</th>\n",
       "      <td>1831</td>\n",
       "      <td>1</td>\n",
       "      <td>4.0</td>\n",
       "      <td>0</td>\n",
       "      <td>55.0</td>\n",
       "      <td>1693.0</td>\n",
       "      <td>1790.0</td>\n",
       "      <td>1133.0</td>\n",
       "      <td>10</td>\n",
       "    </tr>\n",
       "    <tr>\n",
       "      <th>...</th>\n",
       "      <td>...</td>\n",
       "      <td>...</td>\n",
       "      <td>...</td>\n",
       "      <td>...</td>\n",
       "      <td>...</td>\n",
       "      <td>...</td>\n",
       "      <td>...</td>\n",
       "      <td>...</td>\n",
       "      <td>...</td>\n",
       "    </tr>\n",
       "    <tr>\n",
       "      <th>1583</th>\n",
       "      <td>964</td>\n",
       "      <td>0</td>\n",
       "      <td>0.0</td>\n",
       "      <td>1</td>\n",
       "      <td>22.0</td>\n",
       "      <td>225.0</td>\n",
       "      <td>1234.0</td>\n",
       "      <td>2577.0</td>\n",
       "      <td>5</td>\n",
       "    </tr>\n",
       "    <tr>\n",
       "      <th>625</th>\n",
       "      <td>501</td>\n",
       "      <td>0</td>\n",
       "      <td>12.0</td>\n",
       "      <td>1</td>\n",
       "      <td>54.0</td>\n",
       "      <td>504.0</td>\n",
       "      <td>1089.0</td>\n",
       "      <td>2346.0</td>\n",
       "      <td>2</td>\n",
       "    </tr>\n",
       "    <tr>\n",
       "      <th>16</th>\n",
       "      <td>838</td>\n",
       "      <td>0</td>\n",
       "      <td>1.0</td>\n",
       "      <td>1</td>\n",
       "      <td>13.0</td>\n",
       "      <td>984.0</td>\n",
       "      <td>1850.0</td>\n",
       "      <td>3554.0</td>\n",
       "      <td>19</td>\n",
       "    </tr>\n",
       "    <tr>\n",
       "      <th>380</th>\n",
       "      <td>1874</td>\n",
       "      <td>1</td>\n",
       "      <td>10.0</td>\n",
       "      <td>0</td>\n",
       "      <td>8.0</td>\n",
       "      <td>964.0</td>\n",
       "      <td>1233.0</td>\n",
       "      <td>1246.0</td>\n",
       "      <td>2</td>\n",
       "    </tr>\n",
       "    <tr>\n",
       "      <th>905</th>\n",
       "      <td>989</td>\n",
       "      <td>1</td>\n",
       "      <td>4.0</td>\n",
       "      <td>0</td>\n",
       "      <td>17.0</td>\n",
       "      <td>256.0</td>\n",
       "      <td>1394.0</td>\n",
       "      <td>3892.0</td>\n",
       "      <td>19</td>\n",
       "    </tr>\n",
       "  </tbody>\n",
       "</table>\n",
       "<p>200 rows × 9 columns</p>\n",
       "</div>"
      ],
      "text/plain": [
       "      battery_power  blue    fc  four_g  int_memory  px_height  px_width  \\\n",
       "1667           1967     0   0.0       1        46.0      518.0    1374.0   \n",
       "1618            502     0   7.0       0        52.0      281.0    1159.0   \n",
       "557            1519     0   0.0       0        32.0      168.0    1239.0   \n",
       "631            1063     1   0.0       1        26.0     1208.0    1232.0   \n",
       "1529           1831     1   4.0       0        55.0     1693.0    1790.0   \n",
       "...             ...   ...   ...     ...         ...        ...       ...   \n",
       "1583            964     0   0.0       1        22.0      225.0    1234.0   \n",
       "625             501     0  12.0       1        54.0      504.0    1089.0   \n",
       "16              838     0   1.0       1        13.0      984.0    1850.0   \n",
       "380            1874     1  10.0       0         8.0      964.0    1233.0   \n",
       "905             989     1   4.0       0        17.0      256.0    1394.0   \n",
       "\n",
       "         ram  talk_time  \n",
       "1667  1567.0          7  \n",
       "1618  2666.0         20  \n",
       "557   2912.0         15  \n",
       "631   3809.0          5  \n",
       "1529  1133.0         10  \n",
       "...      ...        ...  \n",
       "1583  2577.0          5  \n",
       "625   2346.0          2  \n",
       "16    3554.0         19  \n",
       "380   1246.0          2  \n",
       "905   3892.0         19  \n",
       "\n",
       "[200 rows x 9 columns]"
      ]
     },
     "execution_count": 59,
     "metadata": {},
     "output_type": "execute_result"
    }
   ],
   "source": [
    "X_train_new=find_list_with_length(feature_indices_dict,Max_NB_val,X_train)\n",
    "\n",
    "X_Validation_new=find_list_with_length(feature_indices_dict,Max_NB_val,X_val)\n",
    "\n",
    "X_Validation_new"
   ]
  },
  {
   "cell_type": "markdown",
   "metadata": {},
   "source": [
    "## Scale the Selected Feature"
   ]
  },
  {
   "cell_type": "code",
   "execution_count": 60,
   "metadata": {},
   "outputs": [
    {
     "data": {
      "text/plain": [
       "['battery_power',\n",
       " 'blue',\n",
       " 'fc',\n",
       " 'four_g',\n",
       " 'int_memory',\n",
       " 'px_height',\n",
       " 'px_width',\n",
       " 'ram',\n",
       " 'talk_time']"
      ]
     },
     "execution_count": 60,
     "metadata": {},
     "output_type": "execute_result"
    }
   ],
   "source": [
    "new_features = feature_indices_dict.get(Max_NB_val, None)\n",
    "\n",
    "new_features_data = X_train.iloc[:, new_features]\n",
    "\n",
    "Selected_feature_saved=new_features_data.columns\n",
    "Selected_feature_saved.to_list()"
   ]
  },
  {
   "cell_type": "code",
   "execution_count": 61,
   "metadata": {},
   "outputs": [
    {
     "data": {
      "text/plain": [
       "['battery_power',\n",
       " 'fc',\n",
       " 'talk_time',\n",
       " 'px_width',\n",
       " 'ram',\n",
       " 'px_height',\n",
       " 'int_memory']"
      ]
     },
     "execution_count": 61,
     "metadata": {},
     "output_type": "execute_result"
    }
   ],
   "source": [
    "common_elements = list(set(Selected_feature_saved.to_list()) & set(numeric_cols))\n",
    "common_elements"
   ]
  },
  {
   "cell_type": "code",
   "execution_count": 62,
   "metadata": {},
   "outputs": [],
   "source": [
    "scaler_Selected_Featre = StandardScaler()\n",
    "\n",
    "\n",
    "X_train_new.loc[:, common_elements] = scaler_Selected_Featre.fit_transform(X_train_new.loc[:, common_elements])\n",
    "X_Validation_new.loc[:, common_elements] = scaler_Selected_Featre.transform(X_Validation_new.loc[:, common_elements])"
   ]
  },
  {
   "cell_type": "code",
   "execution_count": 64,
   "metadata": {},
   "outputs": [
    {
     "data": {
      "text/html": [
       "<div>\n",
       "<style scoped>\n",
       "    .dataframe tbody tr th:only-of-type {\n",
       "        vertical-align: middle;\n",
       "    }\n",
       "\n",
       "    .dataframe tbody tr th {\n",
       "        vertical-align: top;\n",
       "    }\n",
       "\n",
       "    .dataframe thead th {\n",
       "        text-align: right;\n",
       "    }\n",
       "</style>\n",
       "<table border=\"1\" class=\"dataframe\">\n",
       "  <thead>\n",
       "    <tr style=\"text-align: right;\">\n",
       "      <th></th>\n",
       "      <th>battery_power</th>\n",
       "      <th>blue</th>\n",
       "      <th>fc</th>\n",
       "      <th>four_g</th>\n",
       "      <th>int_memory</th>\n",
       "      <th>px_height</th>\n",
       "      <th>px_width</th>\n",
       "      <th>ram</th>\n",
       "      <th>talk_time</th>\n",
       "    </tr>\n",
       "  </thead>\n",
       "  <tbody>\n",
       "    <tr>\n",
       "      <th>1898</th>\n",
       "      <td>-1.258979</td>\n",
       "      <td>1</td>\n",
       "      <td>-0.302629</td>\n",
       "      <td>1</td>\n",
       "      <td>1.696994</td>\n",
       "      <td>-1.087911</td>\n",
       "      <td>1.135426</td>\n",
       "      <td>1.499310</td>\n",
       "      <td>0.193493</td>\n",
       "    </tr>\n",
       "    <tr>\n",
       "      <th>280</th>\n",
       "      <td>1.120083</td>\n",
       "      <td>1</td>\n",
       "      <td>-0.302629</td>\n",
       "      <td>1</td>\n",
       "      <td>0.210614</td>\n",
       "      <td>-0.643955</td>\n",
       "      <td>-1.676224</td>\n",
       "      <td>1.333821</td>\n",
       "      <td>-0.352536</td>\n",
       "    </tr>\n",
       "    <tr>\n",
       "      <th>915</th>\n",
       "      <td>0.058690</td>\n",
       "      <td>0</td>\n",
       "      <td>-0.071298</td>\n",
       "      <td>1</td>\n",
       "      <td>0.926278</td>\n",
       "      <td>-0.827815</td>\n",
       "      <td>-1.304743</td>\n",
       "      <td>-0.558269</td>\n",
       "      <td>-0.534545</td>\n",
       "    </tr>\n",
       "    <tr>\n",
       "      <th>846</th>\n",
       "      <td>0.566707</td>\n",
       "      <td>0</td>\n",
       "      <td>0.854026</td>\n",
       "      <td>0</td>\n",
       "      <td>-0.009590</td>\n",
       "      <td>-1.058762</td>\n",
       "      <td>-1.014523</td>\n",
       "      <td>-1.240450</td>\n",
       "      <td>-0.534545</td>\n",
       "    </tr>\n",
       "    <tr>\n",
       "      <th>1629</th>\n",
       "      <td>-0.016152</td>\n",
       "      <td>0</td>\n",
       "      <td>1.779350</td>\n",
       "      <td>0</td>\n",
       "      <td>-0.119692</td>\n",
       "      <td>-0.043044</td>\n",
       "      <td>-1.132933</td>\n",
       "      <td>-0.431394</td>\n",
       "      <td>0.739522</td>\n",
       "    </tr>\n",
       "    <tr>\n",
       "      <th>...</th>\n",
       "      <td>...</td>\n",
       "      <td>...</td>\n",
       "      <td>...</td>\n",
       "      <td>...</td>\n",
       "      <td>...</td>\n",
       "      <td>...</td>\n",
       "      <td>...</td>\n",
       "      <td>...</td>\n",
       "      <td>...</td>\n",
       "    </tr>\n",
       "    <tr>\n",
       "      <th>1259</th>\n",
       "      <td>1.262963</td>\n",
       "      <td>0</td>\n",
       "      <td>0.160033</td>\n",
       "      <td>0</td>\n",
       "      <td>-1.385867</td>\n",
       "      <td>0.051129</td>\n",
       "      <td>-1.047028</td>\n",
       "      <td>-0.444265</td>\n",
       "      <td>-1.444593</td>\n",
       "    </tr>\n",
       "    <tr>\n",
       "      <th>784</th>\n",
       "      <td>1.480685</td>\n",
       "      <td>1</td>\n",
       "      <td>0.160033</td>\n",
       "      <td>0</td>\n",
       "      <td>0.816176</td>\n",
       "      <td>1.692422</td>\n",
       "      <td>0.731440</td>\n",
       "      <td>0.043008</td>\n",
       "      <td>-1.444593</td>\n",
       "    </tr>\n",
       "    <tr>\n",
       "      <th>218</th>\n",
       "      <td>1.467077</td>\n",
       "      <td>0</td>\n",
       "      <td>-0.996622</td>\n",
       "      <td>1</td>\n",
       "      <td>-0.449999</td>\n",
       "      <td>0.369522</td>\n",
       "      <td>1.646213</td>\n",
       "      <td>-0.869939</td>\n",
       "      <td>1.649570</td>\n",
       "    </tr>\n",
       "    <tr>\n",
       "      <th>1604</th>\n",
       "      <td>-0.136352</td>\n",
       "      <td>1</td>\n",
       "      <td>-0.765291</td>\n",
       "      <td>0</td>\n",
       "      <td>-1.495970</td>\n",
       "      <td>0.602711</td>\n",
       "      <td>0.418002</td>\n",
       "      <td>-1.454667</td>\n",
       "      <td>1.285551</td>\n",
       "    </tr>\n",
       "    <tr>\n",
       "      <th>1182</th>\n",
       "      <td>-1.202281</td>\n",
       "      <td>0</td>\n",
       "      <td>1.548019</td>\n",
       "      <td>1</td>\n",
       "      <td>-1.055561</td>\n",
       "      <td>-0.166365</td>\n",
       "      <td>0.401750</td>\n",
       "      <td>-1.524540</td>\n",
       "      <td>-1.080574</td>\n",
       "    </tr>\n",
       "  </tbody>\n",
       "</table>\n",
       "<p>1791 rows × 9 columns</p>\n",
       "</div>"
      ],
      "text/plain": [
       "      battery_power  blue        fc  four_g  int_memory  px_height  px_width  \\\n",
       "1898      -1.258979     1 -0.302629       1    1.696994  -1.087911  1.135426   \n",
       "280        1.120083     1 -0.302629       1    0.210614  -0.643955 -1.676224   \n",
       "915        0.058690     0 -0.071298       1    0.926278  -0.827815 -1.304743   \n",
       "846        0.566707     0  0.854026       0   -0.009590  -1.058762 -1.014523   \n",
       "1629      -0.016152     0  1.779350       0   -0.119692  -0.043044 -1.132933   \n",
       "...             ...   ...       ...     ...         ...        ...       ...   \n",
       "1259       1.262963     0  0.160033       0   -1.385867   0.051129 -1.047028   \n",
       "784        1.480685     1  0.160033       0    0.816176   1.692422  0.731440   \n",
       "218        1.467077     0 -0.996622       1   -0.449999   0.369522  1.646213   \n",
       "1604      -0.136352     1 -0.765291       0   -1.495970   0.602711  0.418002   \n",
       "1182      -1.202281     0  1.548019       1   -1.055561  -0.166365  0.401750   \n",
       "\n",
       "           ram  talk_time  \n",
       "1898  1.499310   0.193493  \n",
       "280   1.333821  -0.352536  \n",
       "915  -0.558269  -0.534545  \n",
       "846  -1.240450  -0.534545  \n",
       "1629 -0.431394   0.739522  \n",
       "...        ...        ...  \n",
       "1259 -0.444265  -1.444593  \n",
       "784   0.043008  -1.444593  \n",
       "218  -0.869939   1.649570  \n",
       "1604 -1.454667   1.285551  \n",
       "1182 -1.524540  -1.080574  \n",
       "\n",
       "[1791 rows x 9 columns]"
      ]
     },
     "execution_count": 64,
     "metadata": {},
     "output_type": "execute_result"
    }
   ],
   "source": [
    "X_train_new"
   ]
  },
  {
   "cell_type": "markdown",
   "metadata": {},
   "source": [
    "# Try Gaussian Naive Bayes with the selected Feature for Train and validation set"
   ]
  },
  {
   "cell_type": "code",
   "execution_count": 65,
   "metadata": {},
   "outputs": [
    {
     "name": "stdout",
     "output_type": "stream",
     "text": [
      "Macro-Averaged Precision for Gaussian Naive Bayes Validation : 0.84110\n",
      "Macro-Averaged Recall for Gaussian Naive Bayes Validation    : 0.83500\n",
      "Macro-Averaged F1-Score for Gaussian Naive Bayes Validation  : 0.83571\n",
      "Accuracy for Gaussian Naive Bayes Validation                 : 0.83500\n"
     ]
    }
   ],
   "source": [
    "NB_model_New_feature=GaussianNB()\n",
    "NB_model_New_feature.fit(X_train_new, Y_train)\n",
    "Gaussian_validation_predictions_new = NB_model_New_feature.predict(X_Validation_new)\n",
    "evaluating(Y_val,Gaussian_validation_predictions_new,\"Gaussian Naive Bayes Validation\")"
   ]
  },
  {
   "cell_type": "code",
   "execution_count": 66,
   "metadata": {},
   "outputs": [
    {
     "name": "stdout",
     "output_type": "stream",
     "text": [
      "Macro-Averaged Precision for Gaussian Naive Bayes Train : 0.79787\n",
      "Macro-Averaged Recall for Gaussian Naive Bayes Train    : 0.79729\n",
      "Macro-Averaged F1-Score for Gaussian Naive Bayes Train  : 0.79756\n",
      "Accuracy for Gaussian Naive Bayes Train                 : 0.79732\n"
     ]
    }
   ],
   "source": [
    "Gaussian_Train_predictions_new = NB_model_New_feature.predict(X_train_new)\n",
    "evaluating(Y_train,Gaussian_Train_predictions_new,\"Gaussian Naive Bayes Train\")"
   ]
  },
  {
   "cell_type": "markdown",
   "metadata": {},
   "source": [
    "# Optimize your model:"
   ]
  },
  {
   "cell_type": "markdown",
   "metadata": {},
   "source": [
    "## Hyperparameter tuning For Gaussian Naive Bayes"
   ]
  },
  {
   "cell_type": "code",
   "execution_count": 67,
   "metadata": {},
   "outputs": [
    {
     "name": "stdout",
     "output_type": "stream",
     "text": [
      "Best hyperparameters: {'var_smoothing': 1e-09}\n",
      "Accuracy: 0.835\n"
     ]
    }
   ],
   "source": [
    "nb_classifier = GaussianNB()\n",
    "\n",
    "\n",
    "param_grid = {\n",
    "    'var_smoothing': [1e-9, 1e-8, 1e-7, 1e-6, 1e-5]\n",
    "}\n",
    "\n",
    "\n",
    "grid_search = GridSearchCV(estimator=nb_classifier, param_grid=param_grid, cv=5)\n",
    "\n",
    "grid_search.fit(X_train_new, Y_train)\n",
    "\n",
    "print(\"Best hyperparameters:\", grid_search.best_params_)\n",
    "\n",
    "# Evaluate the model with the best hyperparameters on the test set\n",
    "best_nb = grid_search.best_estimator_\n",
    "accuracy = best_nb.score(X_Validation_new, Y_val)\n",
    "print(\"Accuracy:\", accuracy)\n"
   ]
  },
  {
   "cell_type": "code",
   "execution_count": 68,
   "metadata": {},
   "outputs": [
    {
     "name": "stdout",
     "output_type": "stream",
     "text": [
      "F1 Score on Test Set (Gaussian Naive):  0.8357054764204088\n"
     ]
    }
   ],
   "source": [
    "y_pred_NB = grid_search.predict(X_Validation_new)\n",
    "f1_NB = f1_score(Y_val, y_pred_NB,average=\"macro\")\n",
    "print(\"F1 Score on Test Set (Gaussian Naive): \", f1_NB)"
   ]
  },
  {
   "cell_type": "markdown",
   "metadata": {},
   "source": [
    "## Conclusion\n",
    "* Naive Bayes models typically don’t have many hyperparameters to tune; the var_smoothing parameter corresponds to alpha, which controls the amount of regularization.\n",
    "* However, the performance was not enhanced."
   ]
  },
  {
   "cell_type": "markdown",
   "metadata": {},
   "source": [
    "# Create Pipeline with feature selection followed by Scaler followed by the Gaussian Naive classifier"
   ]
  },
  {
   "cell_type": "code",
   "execution_count": 72,
   "metadata": {},
   "outputs": [
    {
     "data": {
      "text/plain": [
       "array([ 0,  1,  4,  5,  6, 11, 12, 13, 16], dtype=int64)"
      ]
     },
     "execution_count": 72,
     "metadata": {},
     "output_type": "execute_result"
    }
   ],
   "source": [
    "new_features = feature_indices_dict.get(Max_NB_val, None)\n",
    "new_features"
   ]
  },
  {
   "cell_type": "code",
   "execution_count": 73,
   "metadata": {},
   "outputs": [
    {
     "data": {
      "text/html": [
       "<div>\n",
       "<style scoped>\n",
       "    .dataframe tbody tr th:only-of-type {\n",
       "        vertical-align: middle;\n",
       "    }\n",
       "\n",
       "    .dataframe tbody tr th {\n",
       "        vertical-align: top;\n",
       "    }\n",
       "\n",
       "    .dataframe thead th {\n",
       "        text-align: right;\n",
       "    }\n",
       "</style>\n",
       "<table border=\"1\" class=\"dataframe\">\n",
       "  <thead>\n",
       "    <tr style=\"text-align: right;\">\n",
       "      <th></th>\n",
       "      <th>battery_power</th>\n",
       "      <th>blue</th>\n",
       "      <th>fc</th>\n",
       "      <th>four_g</th>\n",
       "      <th>int_memory</th>\n",
       "      <th>px_height</th>\n",
       "      <th>px_width</th>\n",
       "      <th>ram</th>\n",
       "      <th>talk_time</th>\n",
       "    </tr>\n",
       "  </thead>\n",
       "  <tbody>\n",
       "    <tr>\n",
       "      <th>1898</th>\n",
       "      <td>684</td>\n",
       "      <td>1</td>\n",
       "      <td>3.0</td>\n",
       "      <td>1</td>\n",
       "      <td>63.0</td>\n",
       "      <td>159.0</td>\n",
       "      <td>1738.0</td>\n",
       "      <td>3756.0</td>\n",
       "      <td>12</td>\n",
       "    </tr>\n",
       "    <tr>\n",
       "      <th>280</th>\n",
       "      <td>1733</td>\n",
       "      <td>1</td>\n",
       "      <td>3.0</td>\n",
       "      <td>1</td>\n",
       "      <td>36.0</td>\n",
       "      <td>357.0</td>\n",
       "      <td>527.0</td>\n",
       "      <td>3576.0</td>\n",
       "      <td>9</td>\n",
       "    </tr>\n",
       "    <tr>\n",
       "      <th>915</th>\n",
       "      <td>1265</td>\n",
       "      <td>0</td>\n",
       "      <td>4.0</td>\n",
       "      <td>1</td>\n",
       "      <td>49.0</td>\n",
       "      <td>275.0</td>\n",
       "      <td>687.0</td>\n",
       "      <td>1518.0</td>\n",
       "      <td>8</td>\n",
       "    </tr>\n",
       "    <tr>\n",
       "      <th>846</th>\n",
       "      <td>1489</td>\n",
       "      <td>0</td>\n",
       "      <td>8.0</td>\n",
       "      <td>0</td>\n",
       "      <td>32.0</td>\n",
       "      <td>172.0</td>\n",
       "      <td>812.0</td>\n",
       "      <td>776.0</td>\n",
       "      <td>8</td>\n",
       "    </tr>\n",
       "    <tr>\n",
       "      <th>1629</th>\n",
       "      <td>1232</td>\n",
       "      <td>0</td>\n",
       "      <td>12.0</td>\n",
       "      <td>0</td>\n",
       "      <td>30.0</td>\n",
       "      <td>625.0</td>\n",
       "      <td>761.0</td>\n",
       "      <td>1656.0</td>\n",
       "      <td>15</td>\n",
       "    </tr>\n",
       "    <tr>\n",
       "      <th>...</th>\n",
       "      <td>...</td>\n",
       "      <td>...</td>\n",
       "      <td>...</td>\n",
       "      <td>...</td>\n",
       "      <td>...</td>\n",
       "      <td>...</td>\n",
       "      <td>...</td>\n",
       "      <td>...</td>\n",
       "      <td>...</td>\n",
       "    </tr>\n",
       "    <tr>\n",
       "      <th>1259</th>\n",
       "      <td>1796</td>\n",
       "      <td>0</td>\n",
       "      <td>5.0</td>\n",
       "      <td>0</td>\n",
       "      <td>7.0</td>\n",
       "      <td>667.0</td>\n",
       "      <td>798.0</td>\n",
       "      <td>1642.0</td>\n",
       "      <td>3</td>\n",
       "    </tr>\n",
       "    <tr>\n",
       "      <th>784</th>\n",
       "      <td>1892</td>\n",
       "      <td>1</td>\n",
       "      <td>5.0</td>\n",
       "      <td>0</td>\n",
       "      <td>47.0</td>\n",
       "      <td>1399.0</td>\n",
       "      <td>1564.0</td>\n",
       "      <td>2172.0</td>\n",
       "      <td>3</td>\n",
       "    </tr>\n",
       "    <tr>\n",
       "      <th>218</th>\n",
       "      <td>1886</td>\n",
       "      <td>0</td>\n",
       "      <td>0.0</td>\n",
       "      <td>1</td>\n",
       "      <td>24.0</td>\n",
       "      <td>809.0</td>\n",
       "      <td>1958.0</td>\n",
       "      <td>1179.0</td>\n",
       "      <td>20</td>\n",
       "    </tr>\n",
       "    <tr>\n",
       "      <th>1604</th>\n",
       "      <td>1179</td>\n",
       "      <td>1</td>\n",
       "      <td>1.0</td>\n",
       "      <td>0</td>\n",
       "      <td>5.0</td>\n",
       "      <td>913.0</td>\n",
       "      <td>1429.0</td>\n",
       "      <td>543.0</td>\n",
       "      <td>18</td>\n",
       "    </tr>\n",
       "    <tr>\n",
       "      <th>1182</th>\n",
       "      <td>709</td>\n",
       "      <td>0</td>\n",
       "      <td>11.0</td>\n",
       "      <td>1</td>\n",
       "      <td>13.0</td>\n",
       "      <td>570.0</td>\n",
       "      <td>1422.0</td>\n",
       "      <td>467.0</td>\n",
       "      <td>5</td>\n",
       "    </tr>\n",
       "  </tbody>\n",
       "</table>\n",
       "<p>1791 rows × 9 columns</p>\n",
       "</div>"
      ],
      "text/plain": [
       "      battery_power  blue    fc  four_g  int_memory  px_height  px_width  \\\n",
       "1898            684     1   3.0       1        63.0      159.0    1738.0   \n",
       "280            1733     1   3.0       1        36.0      357.0     527.0   \n",
       "915            1265     0   4.0       1        49.0      275.0     687.0   \n",
       "846            1489     0   8.0       0        32.0      172.0     812.0   \n",
       "1629           1232     0  12.0       0        30.0      625.0     761.0   \n",
       "...             ...   ...   ...     ...         ...        ...       ...   \n",
       "1259           1796     0   5.0       0         7.0      667.0     798.0   \n",
       "784            1892     1   5.0       0        47.0     1399.0    1564.0   \n",
       "218            1886     0   0.0       1        24.0      809.0    1958.0   \n",
       "1604           1179     1   1.0       0         5.0      913.0    1429.0   \n",
       "1182            709     0  11.0       1        13.0      570.0    1422.0   \n",
       "\n",
       "         ram  talk_time  \n",
       "1898  3756.0         12  \n",
       "280   3576.0          9  \n",
       "915   1518.0          8  \n",
       "846    776.0          8  \n",
       "1629  1656.0         15  \n",
       "...      ...        ...  \n",
       "1259  1642.0          3  \n",
       "784   2172.0          3  \n",
       "218   1179.0         20  \n",
       "1604   543.0         18  \n",
       "1182   467.0          5  \n",
       "\n",
       "[1791 rows x 9 columns]"
      ]
     },
     "execution_count": 73,
     "metadata": {},
     "output_type": "execute_result"
    }
   ],
   "source": [
    "new_features_data = X_train.iloc[:, new_features]\n",
    "new_features_data"
   ]
  },
  {
   "cell_type": "code",
   "execution_count": 74,
   "metadata": {},
   "outputs": [
    {
     "data": {
      "text/plain": [
       "Index(['battery_power', 'blue', 'fc', 'four_g', 'int_memory', 'px_height',\n",
       "       'px_width', 'ram', 'talk_time'],\n",
       "      dtype='object')"
      ]
     },
     "execution_count": 74,
     "metadata": {},
     "output_type": "execute_result"
    }
   ],
   "source": [
    "Selected_feature_saved=new_features_data.columns\n",
    "Selected_feature_saved"
   ]
  },
  {
   "cell_type": "code",
   "execution_count": 75,
   "metadata": {},
   "outputs": [],
   "source": [
    "pipeline = Pipeline([\n",
    "    ('selected_features',Selected_feature_saved),\n",
    "    ('Scaler', scaler_Selected_Featre),\n",
    "    ('classifier', NB_model_New_feature)\n",
    "])"
   ]
  },
  {
   "cell_type": "code",
   "execution_count": 76,
   "metadata": {},
   "outputs": [],
   "source": [
    "with open(\"pipeline_pickle\",'wb') as file:\n",
    "    pickle.dump(pipeline,file)"
   ]
  },
  {
   "cell_type": "code",
   "execution_count": null,
   "metadata": {},
   "outputs": [],
   "source": []
  },
  {
   "cell_type": "code",
   "execution_count": null,
   "metadata": {},
   "outputs": [],
   "source": []
  }
 ],
 "metadata": {
  "kernelspec": {
   "display_name": "my_env",
   "language": "python",
   "name": "python3"
  },
  "language_info": {
   "codemirror_mode": {
    "name": "ipython",
    "version": 3
   },
   "file_extension": ".py",
   "mimetype": "text/x-python",
   "name": "python",
   "nbconvert_exporter": "python",
   "pygments_lexer": "ipython3",
   "version": "3.9.18"
  }
 },
 "nbformat": 4,
 "nbformat_minor": 2
}
